{
  "nbformat": 4,
  "nbformat_minor": 0,
  "metadata": {
    "colab": {
      "provenance": [],
      "authorship_tag": "ABX9TyMS9/Hh7irXNoNsKWE9ssyf",
      "include_colab_link": true
    },
    "kernelspec": {
      "name": "python3",
      "display_name": "Python 3"
    },
    "language_info": {
      "name": "python"
    }
  },
  "cells": [
    {
      "cell_type": "markdown",
      "metadata": {
        "id": "view-in-github",
        "colab_type": "text"
      },
      "source": [
        "<a href=\"https://colab.research.google.com/github/alkarps/GB.Methods-for-collecting-and-processing-data-from-the-Internet/blob/hw01/hw01.ipynb\" target=\"_parent\"><img src=\"https://colab.research.google.com/assets/colab-badge.svg\" alt=\"Open In Colab\"/></a>"
      ]
    },
    {
      "cell_type": "code",
      "source": [
        "#!pip install requests"
      ],
      "metadata": {
        "id": "lRJclWglIkxt"
      },
      "execution_count": 1,
      "outputs": []
    },
    {
      "cell_type": "code",
      "source": [
        "import requests\n",
        "import json\n",
        "from pprint import pprint\n",
        "from requests_oauthlib import OAuth1"
      ],
      "metadata": {
        "id": "utWmmfzzIp8j"
      },
      "execution_count": 2,
      "outputs": []
    },
    {
      "cell_type": "code",
      "source": [
        "def saveJsonTo(file_name, income_json):\n",
        "  json_string = json.dumps(income_json)\n",
        "  with open(file_name, 'w') as outfile:\n",
        "      outfile.write(json_string)\n",
        "\n",
        "def readAndPrintJsonFrom(file_name):\n",
        "  with open(file_name) as json_file:\n",
        "    data = json.load(json_file)\n",
        "    print(data)"
      ],
      "metadata": {
        "id": "9g6Wr6awdObD"
      },
      "execution_count": 3,
      "outputs": []
    },
    {
      "cell_type": "markdown",
      "source": [
        "### Задание №1"
      ],
      "metadata": {
        "id": "8oLZezDlHYM5"
      }
    },
    {
      "cell_type": "markdown",
      "source": [
        "Посмотреть документацию к API GitHub, разобраться как вывести список репозиториев для конкретного пользователя, сохранить JSON-вывод в файле *.json."
      ],
      "metadata": {
        "id": "KHXBRLM9HbL9"
      }
    },
    {
      "cell_type": "code",
      "execution_count": 4,
      "metadata": {
        "id": "HNDWbeJQHSTD",
        "colab": {
          "base_uri": "https://localhost:8080/"
        },
        "outputId": "723eae74-d20b-4157-b6d5-2b70cc4485d9"
      },
      "outputs": [
        {
          "output_type": "stream",
          "name": "stdout",
          "text": [
            "[{'allow_forking': True,\n",
            "  'archive_url': 'https://api.github.com/repos/KRPNKo/ASP-Linux-Kernel/{archive_format}{/ref}',\n",
            "  'archived': False,\n",
            "  'assignees_url': 'https://api.github.com/repos/KRPNKo/ASP-Linux-Kernel/assignees{/user}',\n",
            "  'blobs_url': 'https://api.github.com/repos/KRPNKo/ASP-Linux-Kernel/git/blobs{/sha}',\n",
            "  'branches_url': 'https://api.github.com/repos/KRPNKo/ASP-Linux-Kernel/branches{/branch}',\n",
            "  'clone_url': 'https://github.com/KRPNKo/ASP-Linux-Kernel.git',\n",
            "  'collaborators_url': 'https://api.github.com/repos/KRPNKo/ASP-Linux-Kernel/collaborators{/collaborator}',\n",
            "  'comments_url': 'https://api.github.com/repos/KRPNKo/ASP-Linux-Kernel/comments{/number}',\n",
            "  'commits_url': 'https://api.github.com/repos/KRPNKo/ASP-Linux-Kernel/commits{/sha}',\n",
            "  'compare_url': 'https://api.github.com/repos/KRPNKo/ASP-Linux-Kernel/compare/{base}...{head}',\n",
            "  'contents_url': 'https://api.github.com/repos/KRPNKo/ASP-Linux-Kernel/contents/{+path}',\n",
            "  'contributors_url': 'https://api.github.com/repos/KRPNKo/ASP-Linux-Kernel/contributors',\n",
            "  'created_at': '2022-08-31T12:02:40Z',\n",
            "  'default_branch': 'processor-sdk-linux-03.00.00',\n",
            "  'deployments_url': 'https://api.github.com/repos/KRPNKo/ASP-Linux-Kernel/deployments',\n",
            "  'description': None,\n",
            "  'disabled': False,\n",
            "  'downloads_url': 'https://api.github.com/repos/KRPNKo/ASP-Linux-Kernel/downloads',\n",
            "  'events_url': 'https://api.github.com/repos/KRPNKo/ASP-Linux-Kernel/events',\n",
            "  'fork': True,\n",
            "  'forks': 0,\n",
            "  'forks_count': 0,\n",
            "  'forks_url': 'https://api.github.com/repos/KRPNKo/ASP-Linux-Kernel/forks',\n",
            "  'full_name': 'KRPNKo/ASP-Linux-Kernel',\n",
            "  'git_commits_url': 'https://api.github.com/repos/KRPNKo/ASP-Linux-Kernel/git/commits{/sha}',\n",
            "  'git_refs_url': 'https://api.github.com/repos/KRPNKo/ASP-Linux-Kernel/git/refs{/sha}',\n",
            "  'git_tags_url': 'https://api.github.com/repos/KRPNKo/ASP-Linux-Kernel/git/tags{/sha}',\n",
            "  'git_url': 'git://github.com/KRPNKo/ASP-Linux-Kernel.git',\n",
            "  'has_discussions': False,\n",
            "  'has_downloads': True,\n",
            "  'has_issues': False,\n",
            "  'has_pages': False,\n",
            "  'has_projects': True,\n",
            "  'has_wiki': True,\n",
            "  'homepage': None,\n",
            "  'hooks_url': 'https://api.github.com/repos/KRPNKo/ASP-Linux-Kernel/hooks',\n",
            "  'html_url': 'https://github.com/KRPNKo/ASP-Linux-Kernel',\n",
            "  'id': 531065197,\n",
            "  'is_template': False,\n",
            "  'issue_comment_url': 'https://api.github.com/repos/KRPNKo/ASP-Linux-Kernel/issues/comments{/number}',\n",
            "  'issue_events_url': 'https://api.github.com/repos/KRPNKo/ASP-Linux-Kernel/issues/events{/number}',\n",
            "  'issues_url': 'https://api.github.com/repos/KRPNKo/ASP-Linux-Kernel/issues{/number}',\n",
            "  'keys_url': 'https://api.github.com/repos/KRPNKo/ASP-Linux-Kernel/keys{/key_id}',\n",
            "  'labels_url': 'https://api.github.com/repos/KRPNKo/ASP-Linux-Kernel/labels{/name}',\n",
            "  'language': None,\n",
            "  'languages_url': 'https://api.github.com/repos/KRPNKo/ASP-Linux-Kernel/languages',\n",
            "  'license': {'key': 'other',\n",
            "              'name': 'Other',\n",
            "              'node_id': 'MDc6TGljZW5zZTA=',\n",
            "              'spdx_id': 'NOASSERTION',\n",
            "              'url': None},\n",
            "  'merges_url': 'https://api.github.com/repos/KRPNKo/ASP-Linux-Kernel/merges',\n",
            "  'milestones_url': 'https://api.github.com/repos/KRPNKo/ASP-Linux-Kernel/milestones{/number}',\n",
            "  'mirror_url': None,\n",
            "  'name': 'ASP-Linux-Kernel',\n",
            "  'node_id': 'R_kgDOH6dpbQ',\n",
            "  'notifications_url': 'https://api.github.com/repos/KRPNKo/ASP-Linux-Kernel/notifications{?since,all,participating}',\n",
            "  'open_issues': 0,\n",
            "  'open_issues_count': 0,\n",
            "  'owner': {'avatar_url': 'https://avatars.githubusercontent.com/u/2701490?v=4',\n",
            "            'events_url': 'https://api.github.com/users/KRPNKo/events{/privacy}',\n",
            "            'followers_url': 'https://api.github.com/users/KRPNKo/followers',\n",
            "            'following_url': 'https://api.github.com/users/KRPNKo/following{/other_user}',\n",
            "            'gists_url': 'https://api.github.com/users/KRPNKo/gists{/gist_id}',\n",
            "            'gravatar_id': '',\n",
            "            'html_url': 'https://github.com/KRPNKo',\n",
            "            'id': 2701490,\n",
            "            'login': 'KRPNKo',\n",
            "            'node_id': 'MDQ6VXNlcjI3MDE0OTA=',\n",
            "            'organizations_url': 'https://api.github.com/users/KRPNKo/orgs',\n",
            "            'received_events_url': 'https://api.github.com/users/KRPNKo/received_events',\n",
            "            'repos_url': 'https://api.github.com/users/KRPNKo/repos',\n",
            "            'site_admin': False,\n",
            "            'starred_url': 'https://api.github.com/users/KRPNKo/starred{/owner}{/repo}',\n",
            "            'subscriptions_url': 'https://api.github.com/users/KRPNKo/subscriptions',\n",
            "            'type': 'User',\n",
            "            'url': 'https://api.github.com/users/KRPNKo'},\n",
            "  'private': False,\n",
            "  'pulls_url': 'https://api.github.com/repos/KRPNKo/ASP-Linux-Kernel/pulls{/number}',\n",
            "  'pushed_at': '2019-04-03T10:31:44Z',\n",
            "  'releases_url': 'https://api.github.com/repos/KRPNKo/ASP-Linux-Kernel/releases{/id}',\n",
            "  'size': 920502,\n",
            "  'ssh_url': 'git@github.com:KRPNKo/ASP-Linux-Kernel.git',\n",
            "  'stargazers_count': 0,\n",
            "  'stargazers_url': 'https://api.github.com/repos/KRPNKo/ASP-Linux-Kernel/stargazers',\n",
            "  'statuses_url': 'https://api.github.com/repos/KRPNKo/ASP-Linux-Kernel/statuses/{sha}',\n",
            "  'subscribers_url': 'https://api.github.com/repos/KRPNKo/ASP-Linux-Kernel/subscribers',\n",
            "  'subscription_url': 'https://api.github.com/repos/KRPNKo/ASP-Linux-Kernel/subscription',\n",
            "  'svn_url': 'https://github.com/KRPNKo/ASP-Linux-Kernel',\n",
            "  'tags_url': 'https://api.github.com/repos/KRPNKo/ASP-Linux-Kernel/tags',\n",
            "  'teams_url': 'https://api.github.com/repos/KRPNKo/ASP-Linux-Kernel/teams',\n",
            "  'topics': [],\n",
            "  'trees_url': 'https://api.github.com/repos/KRPNKo/ASP-Linux-Kernel/git/trees{/sha}',\n",
            "  'updated_at': '2016-10-13T20:03:32Z',\n",
            "  'url': 'https://api.github.com/repos/KRPNKo/ASP-Linux-Kernel',\n",
            "  'visibility': 'public',\n",
            "  'watchers': 0,\n",
            "  'watchers_count': 0,\n",
            "  'web_commit_signoff_required': False},\n",
            " {'allow_forking': True,\n",
            "  'archive_url': 'https://api.github.com/repos/KRPNKo/WindowsVPS2021/{archive_format}{/ref}',\n",
            "  'archived': False,\n",
            "  'assignees_url': 'https://api.github.com/repos/KRPNKo/WindowsVPS2021/assignees{/user}',\n",
            "  'blobs_url': 'https://api.github.com/repos/KRPNKo/WindowsVPS2021/git/blobs{/sha}',\n",
            "  'branches_url': 'https://api.github.com/repos/KRPNKo/WindowsVPS2021/branches{/branch}',\n",
            "  'clone_url': 'https://github.com/KRPNKo/WindowsVPS2021.git',\n",
            "  'collaborators_url': 'https://api.github.com/repos/KRPNKo/WindowsVPS2021/collaborators{/collaborator}',\n",
            "  'comments_url': 'https://api.github.com/repos/KRPNKo/WindowsVPS2021/comments{/number}',\n",
            "  'commits_url': 'https://api.github.com/repos/KRPNKo/WindowsVPS2021/commits{/sha}',\n",
            "  'compare_url': 'https://api.github.com/repos/KRPNKo/WindowsVPS2021/compare/{base}...{head}',\n",
            "  'contents_url': 'https://api.github.com/repos/KRPNKo/WindowsVPS2021/contents/{+path}',\n",
            "  'contributors_url': 'https://api.github.com/repos/KRPNKo/WindowsVPS2021/contributors',\n",
            "  'created_at': '2021-11-12T13:14:37Z',\n",
            "  'default_branch': 'main',\n",
            "  'deployments_url': 'https://api.github.com/repos/KRPNKo/WindowsVPS2021/deployments',\n",
            "  'description': None,\n",
            "  'disabled': True,\n",
            "  'downloads_url': 'https://api.github.com/repos/KRPNKo/WindowsVPS2021/downloads',\n",
            "  'events_url': 'https://api.github.com/repos/KRPNKo/WindowsVPS2021/events',\n",
            "  'fork': True,\n",
            "  'forks': 0,\n",
            "  'forks_count': 0,\n",
            "  'forks_url': 'https://api.github.com/repos/KRPNKo/WindowsVPS2021/forks',\n",
            "  'full_name': 'KRPNKo/WindowsVPS2021',\n",
            "  'git_commits_url': 'https://api.github.com/repos/KRPNKo/WindowsVPS2021/git/commits{/sha}',\n",
            "  'git_refs_url': 'https://api.github.com/repos/KRPNKo/WindowsVPS2021/git/refs{/sha}',\n",
            "  'git_tags_url': 'https://api.github.com/repos/KRPNKo/WindowsVPS2021/git/tags{/sha}',\n",
            "  'git_url': 'git://github.com/KRPNKo/WindowsVPS2021.git',\n",
            "  'has_discussions': False,\n",
            "  'has_downloads': True,\n",
            "  'has_issues': False,\n",
            "  'has_pages': False,\n",
            "  'has_projects': True,\n",
            "  'has_wiki': True,\n",
            "  'homepage': None,\n",
            "  'hooks_url': 'https://api.github.com/repos/KRPNKo/WindowsVPS2021/hooks',\n",
            "  'html_url': 'https://github.com/KRPNKo/WindowsVPS2021',\n",
            "  'id': 427365565,\n",
            "  'is_template': False,\n",
            "  'issue_comment_url': 'https://api.github.com/repos/KRPNKo/WindowsVPS2021/issues/comments{/number}',\n",
            "  'issue_events_url': 'https://api.github.com/repos/KRPNKo/WindowsVPS2021/issues/events{/number}',\n",
            "  'issues_url': 'https://api.github.com/repos/KRPNKo/WindowsVPS2021/issues{/number}',\n",
            "  'keys_url': 'https://api.github.com/repos/KRPNKo/WindowsVPS2021/keys{/key_id}',\n",
            "  'labels_url': 'https://api.github.com/repos/KRPNKo/WindowsVPS2021/labels{/name}',\n",
            "  'language': 'Batchfile',\n",
            "  'languages_url': 'https://api.github.com/repos/KRPNKo/WindowsVPS2021/languages',\n",
            "  'license': None,\n",
            "  'merges_url': 'https://api.github.com/repos/KRPNKo/WindowsVPS2021/merges',\n",
            "  'milestones_url': 'https://api.github.com/repos/KRPNKo/WindowsVPS2021/milestones{/number}',\n",
            "  'mirror_url': None,\n",
            "  'name': 'WindowsVPS2021',\n",
            "  'node_id': 'R_kgDOGXkUvQ',\n",
            "  'notifications_url': 'https://api.github.com/repos/KRPNKo/WindowsVPS2021/notifications{?since,all,participating}',\n",
            "  'open_issues': 0,\n",
            "  'open_issues_count': 0,\n",
            "  'owner': {'avatar_url': 'https://avatars.githubusercontent.com/u/2701490?v=4',\n",
            "            'events_url': 'https://api.github.com/users/KRPNKo/events{/privacy}',\n",
            "            'followers_url': 'https://api.github.com/users/KRPNKo/followers',\n",
            "            'following_url': 'https://api.github.com/users/KRPNKo/following{/other_user}',\n",
            "            'gists_url': 'https://api.github.com/users/KRPNKo/gists{/gist_id}',\n",
            "            'gravatar_id': '',\n",
            "            'html_url': 'https://github.com/KRPNKo',\n",
            "            'id': 2701490,\n",
            "            'login': 'KRPNKo',\n",
            "            'node_id': 'MDQ6VXNlcjI3MDE0OTA=',\n",
            "            'organizations_url': 'https://api.github.com/users/KRPNKo/orgs',\n",
            "            'received_events_url': 'https://api.github.com/users/KRPNKo/received_events',\n",
            "            'repos_url': 'https://api.github.com/users/KRPNKo/repos',\n",
            "            'site_admin': False,\n",
            "            'starred_url': 'https://api.github.com/users/KRPNKo/starred{/owner}{/repo}',\n",
            "            'subscriptions_url': 'https://api.github.com/users/KRPNKo/subscriptions',\n",
            "            'type': 'User',\n",
            "            'url': 'https://api.github.com/users/KRPNKo'},\n",
            "  'private': False,\n",
            "  'pulls_url': 'https://api.github.com/repos/KRPNKo/WindowsVPS2021/pulls{/number}',\n",
            "  'pushed_at': '2021-11-12T13:21:32Z',\n",
            "  'releases_url': 'https://api.github.com/repos/KRPNKo/WindowsVPS2021/releases{/id}',\n",
            "  'size': 725,\n",
            "  'ssh_url': 'git@github.com:KRPNKo/WindowsVPS2021.git',\n",
            "  'stargazers_count': 0,\n",
            "  'stargazers_url': 'https://api.github.com/repos/KRPNKo/WindowsVPS2021/stargazers',\n",
            "  'statuses_url': 'https://api.github.com/repos/KRPNKo/WindowsVPS2021/statuses/{sha}',\n",
            "  'subscribers_url': 'https://api.github.com/repos/KRPNKo/WindowsVPS2021/subscribers',\n",
            "  'subscription_url': 'https://api.github.com/repos/KRPNKo/WindowsVPS2021/subscription',\n",
            "  'svn_url': 'https://github.com/KRPNKo/WindowsVPS2021',\n",
            "  'tags_url': 'https://api.github.com/repos/KRPNKo/WindowsVPS2021/tags',\n",
            "  'teams_url': 'https://api.github.com/repos/KRPNKo/WindowsVPS2021/teams',\n",
            "  'topics': [],\n",
            "  'trees_url': 'https://api.github.com/repos/KRPNKo/WindowsVPS2021/git/trees{/sha}',\n",
            "  'updated_at': '2022-11-01T09:45:29Z',\n",
            "  'url': 'https://api.github.com/repos/KRPNKo/WindowsVPS2021',\n",
            "  'visibility': 'public',\n",
            "  'watchers': 0,\n",
            "  'watchers_count': 0,\n",
            "  'web_commit_signoff_required': False}]\n"
          ]
        }
      ],
      "source": [
        "req = requests.get(\"https://api.github.com/users/KRPNKo/repos\")\n",
        "pprint(req.json())"
      ]
    },
    {
      "cell_type": "code",
      "source": [
        "KRPNKo_json_file = 'KRPNKo_user_repos.json'\n",
        "saveJsonTo(KRPNKo_json_file, req.json())\n",
        "readAndPrintJsonFrom(KRPNKo_json_file)"
      ],
      "metadata": {
        "colab": {
          "base_uri": "https://localhost:8080/"
        },
        "id": "THjIHarXJhdY",
        "outputId": "8652a7d3-990d-4f2a-d2a7-72cbddd08819"
      },
      "execution_count": 5,
      "outputs": [
        {
          "output_type": "stream",
          "name": "stdout",
          "text": [
            "[{'id': 531065197, 'node_id': 'R_kgDOH6dpbQ', 'name': 'ASP-Linux-Kernel', 'full_name': 'KRPNKo/ASP-Linux-Kernel', 'private': False, 'owner': {'login': 'KRPNKo', 'id': 2701490, 'node_id': 'MDQ6VXNlcjI3MDE0OTA=', 'avatar_url': 'https://avatars.githubusercontent.com/u/2701490?v=4', 'gravatar_id': '', 'url': 'https://api.github.com/users/KRPNKo', 'html_url': 'https://github.com/KRPNKo', 'followers_url': 'https://api.github.com/users/KRPNKo/followers', 'following_url': 'https://api.github.com/users/KRPNKo/following{/other_user}', 'gists_url': 'https://api.github.com/users/KRPNKo/gists{/gist_id}', 'starred_url': 'https://api.github.com/users/KRPNKo/starred{/owner}{/repo}', 'subscriptions_url': 'https://api.github.com/users/KRPNKo/subscriptions', 'organizations_url': 'https://api.github.com/users/KRPNKo/orgs', 'repos_url': 'https://api.github.com/users/KRPNKo/repos', 'events_url': 'https://api.github.com/users/KRPNKo/events{/privacy}', 'received_events_url': 'https://api.github.com/users/KRPNKo/received_events', 'type': 'User', 'site_admin': False}, 'html_url': 'https://github.com/KRPNKo/ASP-Linux-Kernel', 'description': None, 'fork': True, 'url': 'https://api.github.com/repos/KRPNKo/ASP-Linux-Kernel', 'forks_url': 'https://api.github.com/repos/KRPNKo/ASP-Linux-Kernel/forks', 'keys_url': 'https://api.github.com/repos/KRPNKo/ASP-Linux-Kernel/keys{/key_id}', 'collaborators_url': 'https://api.github.com/repos/KRPNKo/ASP-Linux-Kernel/collaborators{/collaborator}', 'teams_url': 'https://api.github.com/repos/KRPNKo/ASP-Linux-Kernel/teams', 'hooks_url': 'https://api.github.com/repos/KRPNKo/ASP-Linux-Kernel/hooks', 'issue_events_url': 'https://api.github.com/repos/KRPNKo/ASP-Linux-Kernel/issues/events{/number}', 'events_url': 'https://api.github.com/repos/KRPNKo/ASP-Linux-Kernel/events', 'assignees_url': 'https://api.github.com/repos/KRPNKo/ASP-Linux-Kernel/assignees{/user}', 'branches_url': 'https://api.github.com/repos/KRPNKo/ASP-Linux-Kernel/branches{/branch}', 'tags_url': 'https://api.github.com/repos/KRPNKo/ASP-Linux-Kernel/tags', 'blobs_url': 'https://api.github.com/repos/KRPNKo/ASP-Linux-Kernel/git/blobs{/sha}', 'git_tags_url': 'https://api.github.com/repos/KRPNKo/ASP-Linux-Kernel/git/tags{/sha}', 'git_refs_url': 'https://api.github.com/repos/KRPNKo/ASP-Linux-Kernel/git/refs{/sha}', 'trees_url': 'https://api.github.com/repos/KRPNKo/ASP-Linux-Kernel/git/trees{/sha}', 'statuses_url': 'https://api.github.com/repos/KRPNKo/ASP-Linux-Kernel/statuses/{sha}', 'languages_url': 'https://api.github.com/repos/KRPNKo/ASP-Linux-Kernel/languages', 'stargazers_url': 'https://api.github.com/repos/KRPNKo/ASP-Linux-Kernel/stargazers', 'contributors_url': 'https://api.github.com/repos/KRPNKo/ASP-Linux-Kernel/contributors', 'subscribers_url': 'https://api.github.com/repos/KRPNKo/ASP-Linux-Kernel/subscribers', 'subscription_url': 'https://api.github.com/repos/KRPNKo/ASP-Linux-Kernel/subscription', 'commits_url': 'https://api.github.com/repos/KRPNKo/ASP-Linux-Kernel/commits{/sha}', 'git_commits_url': 'https://api.github.com/repos/KRPNKo/ASP-Linux-Kernel/git/commits{/sha}', 'comments_url': 'https://api.github.com/repos/KRPNKo/ASP-Linux-Kernel/comments{/number}', 'issue_comment_url': 'https://api.github.com/repos/KRPNKo/ASP-Linux-Kernel/issues/comments{/number}', 'contents_url': 'https://api.github.com/repos/KRPNKo/ASP-Linux-Kernel/contents/{+path}', 'compare_url': 'https://api.github.com/repos/KRPNKo/ASP-Linux-Kernel/compare/{base}...{head}', 'merges_url': 'https://api.github.com/repos/KRPNKo/ASP-Linux-Kernel/merges', 'archive_url': 'https://api.github.com/repos/KRPNKo/ASP-Linux-Kernel/{archive_format}{/ref}', 'downloads_url': 'https://api.github.com/repos/KRPNKo/ASP-Linux-Kernel/downloads', 'issues_url': 'https://api.github.com/repos/KRPNKo/ASP-Linux-Kernel/issues{/number}', 'pulls_url': 'https://api.github.com/repos/KRPNKo/ASP-Linux-Kernel/pulls{/number}', 'milestones_url': 'https://api.github.com/repos/KRPNKo/ASP-Linux-Kernel/milestones{/number}', 'notifications_url': 'https://api.github.com/repos/KRPNKo/ASP-Linux-Kernel/notifications{?since,all,participating}', 'labels_url': 'https://api.github.com/repos/KRPNKo/ASP-Linux-Kernel/labels{/name}', 'releases_url': 'https://api.github.com/repos/KRPNKo/ASP-Linux-Kernel/releases{/id}', 'deployments_url': 'https://api.github.com/repos/KRPNKo/ASP-Linux-Kernel/deployments', 'created_at': '2022-08-31T12:02:40Z', 'updated_at': '2016-10-13T20:03:32Z', 'pushed_at': '2019-04-03T10:31:44Z', 'git_url': 'git://github.com/KRPNKo/ASP-Linux-Kernel.git', 'ssh_url': 'git@github.com:KRPNKo/ASP-Linux-Kernel.git', 'clone_url': 'https://github.com/KRPNKo/ASP-Linux-Kernel.git', 'svn_url': 'https://github.com/KRPNKo/ASP-Linux-Kernel', 'homepage': None, 'size': 920502, 'stargazers_count': 0, 'watchers_count': 0, 'language': None, 'has_issues': False, 'has_projects': True, 'has_downloads': True, 'has_wiki': True, 'has_pages': False, 'has_discussions': False, 'forks_count': 0, 'mirror_url': None, 'archived': False, 'disabled': False, 'open_issues_count': 0, 'license': {'key': 'other', 'name': 'Other', 'spdx_id': 'NOASSERTION', 'url': None, 'node_id': 'MDc6TGljZW5zZTA='}, 'allow_forking': True, 'is_template': False, 'web_commit_signoff_required': False, 'topics': [], 'visibility': 'public', 'forks': 0, 'open_issues': 0, 'watchers': 0, 'default_branch': 'processor-sdk-linux-03.00.00'}, {'id': 427365565, 'node_id': 'R_kgDOGXkUvQ', 'name': 'WindowsVPS2021', 'full_name': 'KRPNKo/WindowsVPS2021', 'private': False, 'owner': {'login': 'KRPNKo', 'id': 2701490, 'node_id': 'MDQ6VXNlcjI3MDE0OTA=', 'avatar_url': 'https://avatars.githubusercontent.com/u/2701490?v=4', 'gravatar_id': '', 'url': 'https://api.github.com/users/KRPNKo', 'html_url': 'https://github.com/KRPNKo', 'followers_url': 'https://api.github.com/users/KRPNKo/followers', 'following_url': 'https://api.github.com/users/KRPNKo/following{/other_user}', 'gists_url': 'https://api.github.com/users/KRPNKo/gists{/gist_id}', 'starred_url': 'https://api.github.com/users/KRPNKo/starred{/owner}{/repo}', 'subscriptions_url': 'https://api.github.com/users/KRPNKo/subscriptions', 'organizations_url': 'https://api.github.com/users/KRPNKo/orgs', 'repos_url': 'https://api.github.com/users/KRPNKo/repos', 'events_url': 'https://api.github.com/users/KRPNKo/events{/privacy}', 'received_events_url': 'https://api.github.com/users/KRPNKo/received_events', 'type': 'User', 'site_admin': False}, 'html_url': 'https://github.com/KRPNKo/WindowsVPS2021', 'description': None, 'fork': True, 'url': 'https://api.github.com/repos/KRPNKo/WindowsVPS2021', 'forks_url': 'https://api.github.com/repos/KRPNKo/WindowsVPS2021/forks', 'keys_url': 'https://api.github.com/repos/KRPNKo/WindowsVPS2021/keys{/key_id}', 'collaborators_url': 'https://api.github.com/repos/KRPNKo/WindowsVPS2021/collaborators{/collaborator}', 'teams_url': 'https://api.github.com/repos/KRPNKo/WindowsVPS2021/teams', 'hooks_url': 'https://api.github.com/repos/KRPNKo/WindowsVPS2021/hooks', 'issue_events_url': 'https://api.github.com/repos/KRPNKo/WindowsVPS2021/issues/events{/number}', 'events_url': 'https://api.github.com/repos/KRPNKo/WindowsVPS2021/events', 'assignees_url': 'https://api.github.com/repos/KRPNKo/WindowsVPS2021/assignees{/user}', 'branches_url': 'https://api.github.com/repos/KRPNKo/WindowsVPS2021/branches{/branch}', 'tags_url': 'https://api.github.com/repos/KRPNKo/WindowsVPS2021/tags', 'blobs_url': 'https://api.github.com/repos/KRPNKo/WindowsVPS2021/git/blobs{/sha}', 'git_tags_url': 'https://api.github.com/repos/KRPNKo/WindowsVPS2021/git/tags{/sha}', 'git_refs_url': 'https://api.github.com/repos/KRPNKo/WindowsVPS2021/git/refs{/sha}', 'trees_url': 'https://api.github.com/repos/KRPNKo/WindowsVPS2021/git/trees{/sha}', 'statuses_url': 'https://api.github.com/repos/KRPNKo/WindowsVPS2021/statuses/{sha}', 'languages_url': 'https://api.github.com/repos/KRPNKo/WindowsVPS2021/languages', 'stargazers_url': 'https://api.github.com/repos/KRPNKo/WindowsVPS2021/stargazers', 'contributors_url': 'https://api.github.com/repos/KRPNKo/WindowsVPS2021/contributors', 'subscribers_url': 'https://api.github.com/repos/KRPNKo/WindowsVPS2021/subscribers', 'subscription_url': 'https://api.github.com/repos/KRPNKo/WindowsVPS2021/subscription', 'commits_url': 'https://api.github.com/repos/KRPNKo/WindowsVPS2021/commits{/sha}', 'git_commits_url': 'https://api.github.com/repos/KRPNKo/WindowsVPS2021/git/commits{/sha}', 'comments_url': 'https://api.github.com/repos/KRPNKo/WindowsVPS2021/comments{/number}', 'issue_comment_url': 'https://api.github.com/repos/KRPNKo/WindowsVPS2021/issues/comments{/number}', 'contents_url': 'https://api.github.com/repos/KRPNKo/WindowsVPS2021/contents/{+path}', 'compare_url': 'https://api.github.com/repos/KRPNKo/WindowsVPS2021/compare/{base}...{head}', 'merges_url': 'https://api.github.com/repos/KRPNKo/WindowsVPS2021/merges', 'archive_url': 'https://api.github.com/repos/KRPNKo/WindowsVPS2021/{archive_format}{/ref}', 'downloads_url': 'https://api.github.com/repos/KRPNKo/WindowsVPS2021/downloads', 'issues_url': 'https://api.github.com/repos/KRPNKo/WindowsVPS2021/issues{/number}', 'pulls_url': 'https://api.github.com/repos/KRPNKo/WindowsVPS2021/pulls{/number}', 'milestones_url': 'https://api.github.com/repos/KRPNKo/WindowsVPS2021/milestones{/number}', 'notifications_url': 'https://api.github.com/repos/KRPNKo/WindowsVPS2021/notifications{?since,all,participating}', 'labels_url': 'https://api.github.com/repos/KRPNKo/WindowsVPS2021/labels{/name}', 'releases_url': 'https://api.github.com/repos/KRPNKo/WindowsVPS2021/releases{/id}', 'deployments_url': 'https://api.github.com/repos/KRPNKo/WindowsVPS2021/deployments', 'created_at': '2021-11-12T13:14:37Z', 'updated_at': '2022-11-01T09:45:29Z', 'pushed_at': '2021-11-12T13:21:32Z', 'git_url': 'git://github.com/KRPNKo/WindowsVPS2021.git', 'ssh_url': 'git@github.com:KRPNKo/WindowsVPS2021.git', 'clone_url': 'https://github.com/KRPNKo/WindowsVPS2021.git', 'svn_url': 'https://github.com/KRPNKo/WindowsVPS2021', 'homepage': None, 'size': 725, 'stargazers_count': 0, 'watchers_count': 0, 'language': 'Batchfile', 'has_issues': False, 'has_projects': True, 'has_downloads': True, 'has_wiki': True, 'has_pages': False, 'has_discussions': False, 'forks_count': 0, 'mirror_url': None, 'archived': False, 'disabled': True, 'open_issues_count': 0, 'license': None, 'allow_forking': True, 'is_template': False, 'web_commit_signoff_required': False, 'topics': [], 'visibility': 'public', 'forks': 0, 'open_issues': 0, 'watchers': 0, 'default_branch': 'main'}]\n"
          ]
        }
      ]
    },
    {
      "cell_type": "markdown",
      "source": [
        "### Задание №2"
      ],
      "metadata": {
        "id": "8l1lrNYeHcre"
      }
    },
    {
      "cell_type": "markdown",
      "source": [
        "**Изучить список открытых API (https://www.programmableweb.com/category/all/apis). Найти среди них любое, требующее авторизацию (любого типа). Выполнить запросы к нему, пройдя авторизацию. Ответ сервера записать в файл.**"
      ],
      "metadata": {
        "id": "pQFpNY8gHhRB"
      }
    },
    {
      "cell_type": "markdown",
      "source": [
        "Если нет желания заморачиваться с поиском, возьмите API вконтакте (https://vk.com/dev/first_guide). Сделайте запрос, чтобы получить список всех сообществ на которые вы подписаны."
      ],
      "metadata": {
        "id": "bfmfGw9DHl0G"
      }
    },
    {
      "cell_type": "code",
      "source": [
        "api_key = \"your-api-key\"\n",
        "api_secret = \"your-api-secret\""
      ],
      "metadata": {
        "id": "DXYK5pb_elOJ"
      },
      "execution_count": null,
      "outputs": []
    },
    {
      "cell_type": "code",
      "source": [
        "auth = OAuth1(api_key, api_secret)\n",
        "endpoint = \"http://api.thenounproject.com/icon/1\"\n",
        "\n",
        "response = requests.get(endpoint, auth=auth)\n",
        "pprint(response.json())"
      ],
      "metadata": {
        "id": "ws8bJu-CHmqe",
        "colab": {
          "base_uri": "https://localhost:8080/"
        },
        "outputId": "73343f76-8127-4457-887d-605aebc7e90a"
      },
      "execution_count": 6,
      "outputs": [
        {
          "output_type": "stream",
          "name": "stdout",
          "text": [
            "{'icon': {'attribution': 'Trash by AIGA from Noun Project',\n",
            "          'collections': [{'author': {'location': 'US',\n",
            "                                      'name': 'AIGA',\n",
            "                                      'permalink': '/aiga-icons',\n",
            "                                      'username': 'aiga-icons'},\n",
            "                           'author_id': '3805019',\n",
            "                           'date_created': '2012-01-27 19:15:26',\n",
            "                           'date_updated': '2018-04-17 20:37:44',\n",
            "                           'description': '',\n",
            "                           'id': '3',\n",
            "                           'is_collaborative': '',\n",
            "                           'is_featured': '1',\n",
            "                           'is_published': '1',\n",
            "                           'is_store_item': '0',\n",
            "                           'name': 'Symbol Signs',\n",
            "                           'permalink': '/aiga-icons/collection/symbol-signs',\n",
            "                           'slug': 'symbol-signs',\n",
            "                           'sponsor': {},\n",
            "                           'sponsor_campaign_link': '',\n",
            "                           'sponsor_id': '',\n",
            "                           'tags': [],\n",
            "                           'template': '24'}],\n",
            "          'date_uploaded': '',\n",
            "          'icon_url': 'https://static.thenounproject.com/noun-svg/1.svg?Expires=1671441755&Signature=dqx0M1qpT8FC6Xabb9mhLCPKXPrb9xjeENKqqR9dHBbLbim2n~alh4c9HTYfwBWEG83~NsEBsWqaBRS59fhObDoeXM5HRtdvdD8EJDIpfiF8JQXYUrsHNFn3Ui2eoKDLVkfT9-WiN2TKu~XSnE0HFg4wcM3CM-4Orazy8h3QRQY_&Key-Pair-Id=APKAI5ZVHAXN65CHVU2Q',\n",
            "          'id': '1',\n",
            "          'is_active': '1',\n",
            "          'is_explicit': '0',\n",
            "          'license_description': 'public-domain',\n",
            "          'nounji_free': '0',\n",
            "          'permalink': '/term/trash/1',\n",
            "          'preview_url': 'https://static.thenounproject.com/png/1-200.png',\n",
            "          'preview_url_42': 'https://static.thenounproject.com/png/1-42.png',\n",
            "          'preview_url_84': 'https://static.thenounproject.com/png/1-84.png',\n",
            "          'sponsor': {},\n",
            "          'sponsor_campaign_link': None,\n",
            "          'sponsor_id': '',\n",
            "          'tags': [{'id': 19, 'slug': 'trash'},\n",
            "                   {'id': 20, 'slug': 'garbage'},\n",
            "                   {'id': 1974, 'slug': 'trash-can'},\n",
            "                   {'id': 11120, 'slug': 'throw-away'}],\n",
            "          'term': 'Trash',\n",
            "          'term_id': 19,\n",
            "          'term_slug': 'trash',\n",
            "          'updated_at': '2019-04-22 19:22:17',\n",
            "          'uploader': {'location': 'US',\n",
            "                       'name': 'AIGA',\n",
            "                       'permalink': '/aiga-icons',\n",
            "                       'username': 'aiga-icons'},\n",
            "          'uploader_id': '3805019',\n",
            "          'year': 1974}}\n"
          ]
        }
      ]
    },
    {
      "cell_type": "code",
      "source": [
        "icon_json_file = 'icon.json'\n",
        "saveJsonTo(icon_json_file, req.json())\n",
        "readAndPrintJsonFrom(icon_json_file)"
      ],
      "metadata": {
        "colab": {
          "base_uri": "https://localhost:8080/"
        },
        "id": "up0QtXqkeaKV",
        "outputId": "ebfc8a6b-4022-4e1c-c113-15c6c7cc4780"
      },
      "execution_count": 7,
      "outputs": [
        {
          "output_type": "stream",
          "name": "stdout",
          "text": [
            "[{'id': 531065197, 'node_id': 'R_kgDOH6dpbQ', 'name': 'ASP-Linux-Kernel', 'full_name': 'KRPNKo/ASP-Linux-Kernel', 'private': False, 'owner': {'login': 'KRPNKo', 'id': 2701490, 'node_id': 'MDQ6VXNlcjI3MDE0OTA=', 'avatar_url': 'https://avatars.githubusercontent.com/u/2701490?v=4', 'gravatar_id': '', 'url': 'https://api.github.com/users/KRPNKo', 'html_url': 'https://github.com/KRPNKo', 'followers_url': 'https://api.github.com/users/KRPNKo/followers', 'following_url': 'https://api.github.com/users/KRPNKo/following{/other_user}', 'gists_url': 'https://api.github.com/users/KRPNKo/gists{/gist_id}', 'starred_url': 'https://api.github.com/users/KRPNKo/starred{/owner}{/repo}', 'subscriptions_url': 'https://api.github.com/users/KRPNKo/subscriptions', 'organizations_url': 'https://api.github.com/users/KRPNKo/orgs', 'repos_url': 'https://api.github.com/users/KRPNKo/repos', 'events_url': 'https://api.github.com/users/KRPNKo/events{/privacy}', 'received_events_url': 'https://api.github.com/users/KRPNKo/received_events', 'type': 'User', 'site_admin': False}, 'html_url': 'https://github.com/KRPNKo/ASP-Linux-Kernel', 'description': None, 'fork': True, 'url': 'https://api.github.com/repos/KRPNKo/ASP-Linux-Kernel', 'forks_url': 'https://api.github.com/repos/KRPNKo/ASP-Linux-Kernel/forks', 'keys_url': 'https://api.github.com/repos/KRPNKo/ASP-Linux-Kernel/keys{/key_id}', 'collaborators_url': 'https://api.github.com/repos/KRPNKo/ASP-Linux-Kernel/collaborators{/collaborator}', 'teams_url': 'https://api.github.com/repos/KRPNKo/ASP-Linux-Kernel/teams', 'hooks_url': 'https://api.github.com/repos/KRPNKo/ASP-Linux-Kernel/hooks', 'issue_events_url': 'https://api.github.com/repos/KRPNKo/ASP-Linux-Kernel/issues/events{/number}', 'events_url': 'https://api.github.com/repos/KRPNKo/ASP-Linux-Kernel/events', 'assignees_url': 'https://api.github.com/repos/KRPNKo/ASP-Linux-Kernel/assignees{/user}', 'branches_url': 'https://api.github.com/repos/KRPNKo/ASP-Linux-Kernel/branches{/branch}', 'tags_url': 'https://api.github.com/repos/KRPNKo/ASP-Linux-Kernel/tags', 'blobs_url': 'https://api.github.com/repos/KRPNKo/ASP-Linux-Kernel/git/blobs{/sha}', 'git_tags_url': 'https://api.github.com/repos/KRPNKo/ASP-Linux-Kernel/git/tags{/sha}', 'git_refs_url': 'https://api.github.com/repos/KRPNKo/ASP-Linux-Kernel/git/refs{/sha}', 'trees_url': 'https://api.github.com/repos/KRPNKo/ASP-Linux-Kernel/git/trees{/sha}', 'statuses_url': 'https://api.github.com/repos/KRPNKo/ASP-Linux-Kernel/statuses/{sha}', 'languages_url': 'https://api.github.com/repos/KRPNKo/ASP-Linux-Kernel/languages', 'stargazers_url': 'https://api.github.com/repos/KRPNKo/ASP-Linux-Kernel/stargazers', 'contributors_url': 'https://api.github.com/repos/KRPNKo/ASP-Linux-Kernel/contributors', 'subscribers_url': 'https://api.github.com/repos/KRPNKo/ASP-Linux-Kernel/subscribers', 'subscription_url': 'https://api.github.com/repos/KRPNKo/ASP-Linux-Kernel/subscription', 'commits_url': 'https://api.github.com/repos/KRPNKo/ASP-Linux-Kernel/commits{/sha}', 'git_commits_url': 'https://api.github.com/repos/KRPNKo/ASP-Linux-Kernel/git/commits{/sha}', 'comments_url': 'https://api.github.com/repos/KRPNKo/ASP-Linux-Kernel/comments{/number}', 'issue_comment_url': 'https://api.github.com/repos/KRPNKo/ASP-Linux-Kernel/issues/comments{/number}', 'contents_url': 'https://api.github.com/repos/KRPNKo/ASP-Linux-Kernel/contents/{+path}', 'compare_url': 'https://api.github.com/repos/KRPNKo/ASP-Linux-Kernel/compare/{base}...{head}', 'merges_url': 'https://api.github.com/repos/KRPNKo/ASP-Linux-Kernel/merges', 'archive_url': 'https://api.github.com/repos/KRPNKo/ASP-Linux-Kernel/{archive_format}{/ref}', 'downloads_url': 'https://api.github.com/repos/KRPNKo/ASP-Linux-Kernel/downloads', 'issues_url': 'https://api.github.com/repos/KRPNKo/ASP-Linux-Kernel/issues{/number}', 'pulls_url': 'https://api.github.com/repos/KRPNKo/ASP-Linux-Kernel/pulls{/number}', 'milestones_url': 'https://api.github.com/repos/KRPNKo/ASP-Linux-Kernel/milestones{/number}', 'notifications_url': 'https://api.github.com/repos/KRPNKo/ASP-Linux-Kernel/notifications{?since,all,participating}', 'labels_url': 'https://api.github.com/repos/KRPNKo/ASP-Linux-Kernel/labels{/name}', 'releases_url': 'https://api.github.com/repos/KRPNKo/ASP-Linux-Kernel/releases{/id}', 'deployments_url': 'https://api.github.com/repos/KRPNKo/ASP-Linux-Kernel/deployments', 'created_at': '2022-08-31T12:02:40Z', 'updated_at': '2016-10-13T20:03:32Z', 'pushed_at': '2019-04-03T10:31:44Z', 'git_url': 'git://github.com/KRPNKo/ASP-Linux-Kernel.git', 'ssh_url': 'git@github.com:KRPNKo/ASP-Linux-Kernel.git', 'clone_url': 'https://github.com/KRPNKo/ASP-Linux-Kernel.git', 'svn_url': 'https://github.com/KRPNKo/ASP-Linux-Kernel', 'homepage': None, 'size': 920502, 'stargazers_count': 0, 'watchers_count': 0, 'language': None, 'has_issues': False, 'has_projects': True, 'has_downloads': True, 'has_wiki': True, 'has_pages': False, 'has_discussions': False, 'forks_count': 0, 'mirror_url': None, 'archived': False, 'disabled': False, 'open_issues_count': 0, 'license': {'key': 'other', 'name': 'Other', 'spdx_id': 'NOASSERTION', 'url': None, 'node_id': 'MDc6TGljZW5zZTA='}, 'allow_forking': True, 'is_template': False, 'web_commit_signoff_required': False, 'topics': [], 'visibility': 'public', 'forks': 0, 'open_issues': 0, 'watchers': 0, 'default_branch': 'processor-sdk-linux-03.00.00'}, {'id': 427365565, 'node_id': 'R_kgDOGXkUvQ', 'name': 'WindowsVPS2021', 'full_name': 'KRPNKo/WindowsVPS2021', 'private': False, 'owner': {'login': 'KRPNKo', 'id': 2701490, 'node_id': 'MDQ6VXNlcjI3MDE0OTA=', 'avatar_url': 'https://avatars.githubusercontent.com/u/2701490?v=4', 'gravatar_id': '', 'url': 'https://api.github.com/users/KRPNKo', 'html_url': 'https://github.com/KRPNKo', 'followers_url': 'https://api.github.com/users/KRPNKo/followers', 'following_url': 'https://api.github.com/users/KRPNKo/following{/other_user}', 'gists_url': 'https://api.github.com/users/KRPNKo/gists{/gist_id}', 'starred_url': 'https://api.github.com/users/KRPNKo/starred{/owner}{/repo}', 'subscriptions_url': 'https://api.github.com/users/KRPNKo/subscriptions', 'organizations_url': 'https://api.github.com/users/KRPNKo/orgs', 'repos_url': 'https://api.github.com/users/KRPNKo/repos', 'events_url': 'https://api.github.com/users/KRPNKo/events{/privacy}', 'received_events_url': 'https://api.github.com/users/KRPNKo/received_events', 'type': 'User', 'site_admin': False}, 'html_url': 'https://github.com/KRPNKo/WindowsVPS2021', 'description': None, 'fork': True, 'url': 'https://api.github.com/repos/KRPNKo/WindowsVPS2021', 'forks_url': 'https://api.github.com/repos/KRPNKo/WindowsVPS2021/forks', 'keys_url': 'https://api.github.com/repos/KRPNKo/WindowsVPS2021/keys{/key_id}', 'collaborators_url': 'https://api.github.com/repos/KRPNKo/WindowsVPS2021/collaborators{/collaborator}', 'teams_url': 'https://api.github.com/repos/KRPNKo/WindowsVPS2021/teams', 'hooks_url': 'https://api.github.com/repos/KRPNKo/WindowsVPS2021/hooks', 'issue_events_url': 'https://api.github.com/repos/KRPNKo/WindowsVPS2021/issues/events{/number}', 'events_url': 'https://api.github.com/repos/KRPNKo/WindowsVPS2021/events', 'assignees_url': 'https://api.github.com/repos/KRPNKo/WindowsVPS2021/assignees{/user}', 'branches_url': 'https://api.github.com/repos/KRPNKo/WindowsVPS2021/branches{/branch}', 'tags_url': 'https://api.github.com/repos/KRPNKo/WindowsVPS2021/tags', 'blobs_url': 'https://api.github.com/repos/KRPNKo/WindowsVPS2021/git/blobs{/sha}', 'git_tags_url': 'https://api.github.com/repos/KRPNKo/WindowsVPS2021/git/tags{/sha}', 'git_refs_url': 'https://api.github.com/repos/KRPNKo/WindowsVPS2021/git/refs{/sha}', 'trees_url': 'https://api.github.com/repos/KRPNKo/WindowsVPS2021/git/trees{/sha}', 'statuses_url': 'https://api.github.com/repos/KRPNKo/WindowsVPS2021/statuses/{sha}', 'languages_url': 'https://api.github.com/repos/KRPNKo/WindowsVPS2021/languages', 'stargazers_url': 'https://api.github.com/repos/KRPNKo/WindowsVPS2021/stargazers', 'contributors_url': 'https://api.github.com/repos/KRPNKo/WindowsVPS2021/contributors', 'subscribers_url': 'https://api.github.com/repos/KRPNKo/WindowsVPS2021/subscribers', 'subscription_url': 'https://api.github.com/repos/KRPNKo/WindowsVPS2021/subscription', 'commits_url': 'https://api.github.com/repos/KRPNKo/WindowsVPS2021/commits{/sha}', 'git_commits_url': 'https://api.github.com/repos/KRPNKo/WindowsVPS2021/git/commits{/sha}', 'comments_url': 'https://api.github.com/repos/KRPNKo/WindowsVPS2021/comments{/number}', 'issue_comment_url': 'https://api.github.com/repos/KRPNKo/WindowsVPS2021/issues/comments{/number}', 'contents_url': 'https://api.github.com/repos/KRPNKo/WindowsVPS2021/contents/{+path}', 'compare_url': 'https://api.github.com/repos/KRPNKo/WindowsVPS2021/compare/{base}...{head}', 'merges_url': 'https://api.github.com/repos/KRPNKo/WindowsVPS2021/merges', 'archive_url': 'https://api.github.com/repos/KRPNKo/WindowsVPS2021/{archive_format}{/ref}', 'downloads_url': 'https://api.github.com/repos/KRPNKo/WindowsVPS2021/downloads', 'issues_url': 'https://api.github.com/repos/KRPNKo/WindowsVPS2021/issues{/number}', 'pulls_url': 'https://api.github.com/repos/KRPNKo/WindowsVPS2021/pulls{/number}', 'milestones_url': 'https://api.github.com/repos/KRPNKo/WindowsVPS2021/milestones{/number}', 'notifications_url': 'https://api.github.com/repos/KRPNKo/WindowsVPS2021/notifications{?since,all,participating}', 'labels_url': 'https://api.github.com/repos/KRPNKo/WindowsVPS2021/labels{/name}', 'releases_url': 'https://api.github.com/repos/KRPNKo/WindowsVPS2021/releases{/id}', 'deployments_url': 'https://api.github.com/repos/KRPNKo/WindowsVPS2021/deployments', 'created_at': '2021-11-12T13:14:37Z', 'updated_at': '2022-11-01T09:45:29Z', 'pushed_at': '2021-11-12T13:21:32Z', 'git_url': 'git://github.com/KRPNKo/WindowsVPS2021.git', 'ssh_url': 'git@github.com:KRPNKo/WindowsVPS2021.git', 'clone_url': 'https://github.com/KRPNKo/WindowsVPS2021.git', 'svn_url': 'https://github.com/KRPNKo/WindowsVPS2021', 'homepage': None, 'size': 725, 'stargazers_count': 0, 'watchers_count': 0, 'language': 'Batchfile', 'has_issues': False, 'has_projects': True, 'has_downloads': True, 'has_wiki': True, 'has_pages': False, 'has_discussions': False, 'forks_count': 0, 'mirror_url': None, 'archived': False, 'disabled': True, 'open_issues_count': 0, 'license': None, 'allow_forking': True, 'is_template': False, 'web_commit_signoff_required': False, 'topics': [], 'visibility': 'public', 'forks': 0, 'open_issues': 0, 'watchers': 0, 'default_branch': 'main'}]\n"
          ]
        }
      ]
    }
  ]
}