{
  "nbformat": 4,
  "nbformat_minor": 0,
  "metadata": {
    "colab": {
      "provenance": [],
      "authorship_tag": "ABX9TyMScrVqPTPe9kSGUZtIPj+s",
      "include_colab_link": true
    },
    "kernelspec": {
      "name": "python3",
      "display_name": "Python 3"
    },
    "language_info": {
      "name": "python"
    }
  },
  "cells": [
    {
      "cell_type": "markdown",
      "metadata": {
        "id": "view-in-github",
        "colab_type": "text"
      },
      "source": [
        "<a href=\"https://colab.research.google.com/github/alkarps/GB.Methods-for-collecting-and-processing-data-from-the-Internet/blob/hw04/hw04.ipynb\" target=\"_parent\"><img src=\"https://colab.research.google.com/assets/colab-badge.svg\" alt=\"Open In Colab\"/></a>"
      ]
    },
    {
      "cell_type": "code",
      "source": [
        "!apt install mongodb > log"
      ],
      "metadata": {
        "colab": {
          "base_uri": "https://localhost:8080/"
        },
        "id": "VFTxFk4novdC",
        "outputId": "5d2a3cd6-769f-4adb-e8bd-7c56485427de"
      },
      "execution_count": 1,
      "outputs": [
        {
          "output_type": "stream",
          "name": "stdout",
          "text": [
            "\n",
            "WARNING: apt does not have a stable CLI interface. Use with caution in scripts.\n",
            "\n"
          ]
        }
      ]
    },
    {
      "cell_type": "code",
      "source": [
        "!service mongodb start"
      ],
      "metadata": {
        "colab": {
          "base_uri": "https://localhost:8080/"
        },
        "id": "yoynyHs5ozAX",
        "outputId": "aec475a9-2023-47ac-a77b-69d06e7868a4"
      },
      "execution_count": 2,
      "outputs": [
        {
          "output_type": "stream",
          "name": "stdout",
          "text": [
            " * Starting database mongodb\n",
            "   ...done.\n"
          ]
        }
      ]
    },
    {
      "cell_type": "code",
      "execution_count": 3,
      "metadata": {
        "id": "bbpNaIKE0Wrb"
      },
      "outputs": [],
      "source": [
        "#!pip install pymongo"
      ]
    },
    {
      "cell_type": "code",
      "source": [
        "from pymongo import MongoClient\n",
        "from pprint import pprint\n",
        "from collections import namedtuple\n",
        "import json"
      ],
      "metadata": {
        "id": "t6mdlbNCoIBZ"
      },
      "execution_count": 4,
      "outputs": []
    },
    {
      "cell_type": "code",
      "source": [
        "Vacancy = namedtuple(\"Vacancy\", \"source, name, link, min_salary, max_salary\")\n",
        "Salary = namedtuple(\"Salary\", \"amount, currency\")\n",
        "\n",
        "def create_salary(amount, currency):\n",
        "  if isinstance(amount, str):\n",
        "    return Salary(int(amount.replace(\"\\u202f\",\"\")), currency.strip())\n",
        "  else:\n",
        "    return Salary(int(amount), currency.strip())"
      ],
      "metadata": {
        "id": "9WL4w3uQ_UkS"
      },
      "execution_count": 5,
      "outputs": []
    },
    {
      "cell_type": "code",
      "source": [
        "def to_entity(vacancy):\n",
        "  def to_salary_entity(salary):\n",
        "    if salary:\n",
        "      return salary._asdict()\n",
        "    return None\n",
        "  if vacancy:\n",
        "    _vacancy = vacancy._asdict()\n",
        "    _vacancy['name_words'] = vacancy.name.split()\n",
        "    _vacancy['min_salary'] = to_salary_entity(vacancy.min_salary)\n",
        "    _vacancy['max_salary'] = to_salary_entity(vacancy.max_salary)\n",
        "    return _vacancy\n",
        "  return None"
      ],
      "metadata": {
        "id": "AJ50i1VWBeo8"
      },
      "execution_count": 6,
      "outputs": []
    },
    {
      "cell_type": "code",
      "source": [
        "def from_entity(vacancy):\n",
        "  def from_salary_entity(salary):\n",
        "    if salary:\n",
        "      return Salary(salary['amount'], salary['currency'])\n",
        "    return None\n",
        "  if vacancy:\n",
        "    return Vacancy(vacancy['source'], vacancy['name'], vacancy['link'], from_salary_entity(vacancy['min_salary']), from_salary_entity(vacancy['max_salary']))\n",
        "  return None"
      ],
      "metadata": {
        "id": "2G6Uqu5_Y2EE"
      },
      "execution_count": 7,
      "outputs": []
    },
    {
      "cell_type": "markdown",
      "source": [
        "1. **Развернуть у себя на компьютере/виртуальной машине/хостинге MongoDB и реализовать функцию, которая будет добавлять только новые вакансии/продукты в вашу базу.**\n",
        "2. **Написать функцию, которая производит поиск и выводит на экран вакансии с заработной платой больше введённой суммы (необходимо анализировать оба поля зарплаты). Для тех, кто выполнил задание с Росконтролем - напишите запрос для поиска продуктов с рейтингом не ниже введенного или качеством не ниже введенного (то есть цифра вводится одна, а запрос проверяет оба поля)**\n",
        "3. **Любая аналитика. Например, matching вакансий с разных площадок.**"
      ],
      "metadata": {
        "id": "6qN3yQR-n4Of"
      }
    },
    {
      "cell_type": "code",
      "source": [
        "def get_connect_hr_db():\n",
        "  client = MongoClient('mongodb://127.0.0.1:27017/')\n",
        "  return client.hr"
      ],
      "metadata": {
        "id": "AyvpLslhaJWn"
      },
      "execution_count": 8,
      "outputs": []
    },
    {
      "cell_type": "code",
      "source": [
        "def save_vacancies(vacancies):\n",
        "  if vacancies is None or len(vacancies) == 0:\n",
        "    return\n",
        "  _vacancies = get_connect_hr_db().vacancies\n",
        "  for vacancy in vacancies:\n",
        "    if _vacancies.find_one({\"link\": vacancy.link}):\n",
        "      continue\n",
        "    else:\n",
        "      entity = to_entity(vacancy)\n",
        "      _vacancies.insert_one(entity)"
      ],
      "metadata": {
        "id": "-oNSabPNaND5"
      },
      "execution_count": 9,
      "outputs": []
    },
    {
      "cell_type": "code",
      "source": [
        "def find_vacancies(name = None, min_salary = None, max_salary = None):\n",
        "  def get_filter(name, min_salary, max_salary):\n",
        "    filters = list()\n",
        "    if name is not None:\n",
        "      filters.append({ 'name_words': { '$in': name.split() } })\n",
        "    if min_salary is not None:\n",
        "      filters.append({ '$or': [{'min_salary.amount': {'$gte' : min_salary}}, {'min_salary': {'$exists': False} }, {'min_salary' : None }]})\n",
        "    if max_salary is not None:\n",
        "      filters.append({ '$or': [{'max_salary.amount': {'$lte' : max_salary}}, {'max_salary': {'$exists': False} }, {'max_salary' : None }]})\n",
        "    if len(filters) == 0:\n",
        "      return None\n",
        "    elif len(filters) == 1:\n",
        "      return filters[0]\n",
        "    else:\n",
        "      return {'$and': filters}\n",
        "  _vacancies = get_connect_hr_db().vacancies\n",
        "  filter = get_filter(name, min_salary, max_salary)\n",
        "  if filter:\n",
        "    vacancy_entities = _vacancies.find(filter)\n",
        "  else: \n",
        "    vacancy_entities = _vacancies.find()\n",
        "  return [from_entity(x) for x in vacancy_entities]"
      ],
      "metadata": {
        "id": "KVFtIySO-mvw"
      },
      "execution_count": 10,
      "outputs": []
    },
    {
      "cell_type": "code",
      "source": [
        "vacancies = [\n",
        "    Vacancy('hh.ru', 'QA Engineer Auto (Java)', 'https://hh.ru/vacancy/72076374?from=vacancy_search_list&query=%D1%82%D0%B5%D1%81%D1%82%D0%B5%D1%80', None, None), \n",
        "    Vacancy('hh.ru', 'QA Engineer Auto (Java) double', 'https://hh.ru/vacancy/72076374?from=vacancy_search_list&query=%D1%82%D0%B5%D1%81%D1%82%D0%B5%D1%80', None, None), \n",
        "    Vacancy('hh.ru', 'QA Automation engineer (зарплатный проект)', 'https://hh.ru/vacancy/73180600?from=vacancy_search_list&query=%D1%82%D0%B5%D1%81%D1%82%D0%B5%D1%80', None, Salary(200000, 'руб.')), \n",
        "    Vacancy('hh.ru', 'Middle / Senior QA инженер', 'https://hh.ru/vacancy/47759634?from=vacancy_search_list&query=%D1%82%D0%B5%D1%81%D1%82%D0%B5%D1%80', Salary(200000, 'руб.'), None), \n",
        "    Vacancy('hh.ru', 'Senior QA инженер', 'https://hh.ru/vacancy/49887152?from=vacancy_search_list&query=%D1%82%D0%B5%D1%81%D1%82%D0%B5%D1%80', Salary(400000, 'руб.'), None), \n",
        "    Vacancy('hh.ru', 'Middle / Senior QA в команду hr-брендинговые продукты', 'https://hh.ru/vacancy/69811697?from=vacancy_search_list&query=%D1%82%D0%B5%D1%81%D1%82%D0%B5%D1%80',  Salary(100000, 'руб.'), Salary(200000, 'руб.')), \n",
        "    Vacancy('hh.ru', 'Middle / Senior QA в команду безопасности', 'https://hh.ru/vacancy/47892571?from=vacancy_search_list&query=%D1%82%D0%B5%D1%81%D1%82%D0%B5%D1%80',  None, Salary(500000, 'руб.')), \n",
        "    Vacancy('hh.ru', 'Middle / Senior QA инженер в команду mobi-dick', 'https://hh.ru/vacancy/71270946?from=vacancy_search_list&query=%D1%82%D0%B5%D1%81%D1%82%D0%B5%D1%80', None, None), \n",
        "    Vacancy('hh.ru', 'Ручной тестировщик мобильного приложения', 'https://hh.ru/vacancy/74386282?from=vacancy_search_list&query=%D1%82%D0%B5%D1%81%D1%82%D0%B5%D1%80', Salary(40000, 'руб.'), Salary(50000, 'руб.')), \n",
        "]"
      ],
      "metadata": {
        "id": "agJ__ZHKoHR_"
      },
      "execution_count": 11,
      "outputs": []
    },
    {
      "cell_type": "code",
      "source": [
        "pprint(vacancies)"
      ],
      "metadata": {
        "colab": {
          "base_uri": "https://localhost:8080/"
        },
        "id": "wjExDBt7h--T",
        "outputId": "729f55ca-da76-4f25-e6a6-ab5e7e103f46"
      },
      "execution_count": 12,
      "outputs": [
        {
          "output_type": "stream",
          "name": "stdout",
          "text": [
            "[Vacancy(source='hh.ru', name='QA Engineer Auto (Java)', link='https://hh.ru/vacancy/72076374?from=vacancy_search_list&query=%D1%82%D0%B5%D1%81%D1%82%D0%B5%D1%80', min_salary=None, max_salary=None),\n",
            " Vacancy(source='hh.ru', name='QA Engineer Auto (Java) double', link='https://hh.ru/vacancy/72076374?from=vacancy_search_list&query=%D1%82%D0%B5%D1%81%D1%82%D0%B5%D1%80', min_salary=None, max_salary=None),\n",
            " Vacancy(source='hh.ru', name='QA Automation engineer (зарплатный проект)', link='https://hh.ru/vacancy/73180600?from=vacancy_search_list&query=%D1%82%D0%B5%D1%81%D1%82%D0%B5%D1%80', min_salary=None, max_salary=Salary(amount=200000, currency='руб.')),\n",
            " Vacancy(source='hh.ru', name='Middle / Senior QA инженер', link='https://hh.ru/vacancy/47759634?from=vacancy_search_list&query=%D1%82%D0%B5%D1%81%D1%82%D0%B5%D1%80', min_salary=Salary(amount=200000, currency='руб.'), max_salary=None),\n",
            " Vacancy(source='hh.ru', name='Senior QA инженер', link='https://hh.ru/vacancy/49887152?from=vacancy_search_list&query=%D1%82%D0%B5%D1%81%D1%82%D0%B5%D1%80', min_salary=Salary(amount=400000, currency='руб.'), max_salary=None),\n",
            " Vacancy(source='hh.ru', name='Middle / Senior QA в команду hr-брендинговые продукты', link='https://hh.ru/vacancy/69811697?from=vacancy_search_list&query=%D1%82%D0%B5%D1%81%D1%82%D0%B5%D1%80', min_salary=Salary(amount=100000, currency='руб.'), max_salary=Salary(amount=200000, currency='руб.')),\n",
            " Vacancy(source='hh.ru', name='Middle / Senior QA в команду безопасности', link='https://hh.ru/vacancy/47892571?from=vacancy_search_list&query=%D1%82%D0%B5%D1%81%D1%82%D0%B5%D1%80', min_salary=None, max_salary=Salary(amount=500000, currency='руб.')),\n",
            " Vacancy(source='hh.ru', name='Middle / Senior QA инженер в команду mobi-dick', link='https://hh.ru/vacancy/71270946?from=vacancy_search_list&query=%D1%82%D0%B5%D1%81%D1%82%D0%B5%D1%80', min_salary=None, max_salary=None),\n",
            " Vacancy(source='hh.ru', name='Ручной тестировщик мобильного приложения', link='https://hh.ru/vacancy/74386282?from=vacancy_search_list&query=%D1%82%D0%B5%D1%81%D1%82%D0%B5%D1%80', min_salary=Salary(amount=40000, currency='руб.'), max_salary=Salary(amount=50000, currency='руб.'))]\n"
          ]
        }
      ]
    },
    {
      "cell_type": "code",
      "source": [
        "get_connect_hr_db().vacancies.delete_many({})"
      ],
      "metadata": {
        "colab": {
          "base_uri": "https://localhost:8080/"
        },
        "id": "i1ysRnN2jqRx",
        "outputId": "340c5409-6135-4f28-9150-4921387e06c2"
      },
      "execution_count": 13,
      "outputs": [
        {
          "output_type": "execute_result",
          "data": {
            "text/plain": [
              "<pymongo.results.DeleteResult at 0x7fb2516a7a30>"
            ]
          },
          "metadata": {},
          "execution_count": 13
        }
      ]
    },
    {
      "cell_type": "code",
      "source": [
        "save_vacancies(vacancies)"
      ],
      "metadata": {
        "id": "CPWLmy6udR3b"
      },
      "execution_count": 14,
      "outputs": []
    },
    {
      "cell_type": "code",
      "source": [
        "pprint(find_vacancies())"
      ],
      "metadata": {
        "colab": {
          "base_uri": "https://localhost:8080/"
        },
        "id": "dpxjXv1UkFBP",
        "outputId": "4efc43bd-7dcf-4408-aa51-cf5b751aba1b"
      },
      "execution_count": 15,
      "outputs": [
        {
          "output_type": "stream",
          "name": "stdout",
          "text": [
            "[Vacancy(source='hh.ru', name='QA Engineer Auto (Java)', link='https://hh.ru/vacancy/72076374?from=vacancy_search_list&query=%D1%82%D0%B5%D1%81%D1%82%D0%B5%D1%80', min_salary=None, max_salary=None),\n",
            " Vacancy(source='hh.ru', name='QA Automation engineer (зарплатный проект)', link='https://hh.ru/vacancy/73180600?from=vacancy_search_list&query=%D1%82%D0%B5%D1%81%D1%82%D0%B5%D1%80', min_salary=None, max_salary=Salary(amount=200000, currency='руб.')),\n",
            " Vacancy(source='hh.ru', name='Middle / Senior QA инженер', link='https://hh.ru/vacancy/47759634?from=vacancy_search_list&query=%D1%82%D0%B5%D1%81%D1%82%D0%B5%D1%80', min_salary=Salary(amount=200000, currency='руб.'), max_salary=None),\n",
            " Vacancy(source='hh.ru', name='Senior QA инженер', link='https://hh.ru/vacancy/49887152?from=vacancy_search_list&query=%D1%82%D0%B5%D1%81%D1%82%D0%B5%D1%80', min_salary=Salary(amount=400000, currency='руб.'), max_salary=None),\n",
            " Vacancy(source='hh.ru', name='Middle / Senior QA в команду hr-брендинговые продукты', link='https://hh.ru/vacancy/69811697?from=vacancy_search_list&query=%D1%82%D0%B5%D1%81%D1%82%D0%B5%D1%80', min_salary=Salary(amount=100000, currency='руб.'), max_salary=Salary(amount=200000, currency='руб.')),\n",
            " Vacancy(source='hh.ru', name='Middle / Senior QA в команду безопасности', link='https://hh.ru/vacancy/47892571?from=vacancy_search_list&query=%D1%82%D0%B5%D1%81%D1%82%D0%B5%D1%80', min_salary=None, max_salary=Salary(amount=500000, currency='руб.')),\n",
            " Vacancy(source='hh.ru', name='Middle / Senior QA инженер в команду mobi-dick', link='https://hh.ru/vacancy/71270946?from=vacancy_search_list&query=%D1%82%D0%B5%D1%81%D1%82%D0%B5%D1%80', min_salary=None, max_salary=None),\n",
            " Vacancy(source='hh.ru', name='Ручной тестировщик мобильного приложения', link='https://hh.ru/vacancy/74386282?from=vacancy_search_list&query=%D1%82%D0%B5%D1%81%D1%82%D0%B5%D1%80', min_salary=Salary(amount=40000, currency='руб.'), max_salary=Salary(amount=50000, currency='руб.'))]\n"
          ]
        }
      ]
    },
    {
      "cell_type": "code",
      "source": [
        "pprint(find_vacancies('QA'))"
      ],
      "metadata": {
        "colab": {
          "base_uri": "https://localhost:8080/"
        },
        "id": "vxs5coVedTMy",
        "outputId": "22035d14-ce41-471f-8359-0ccda97ec862"
      },
      "execution_count": 16,
      "outputs": [
        {
          "output_type": "stream",
          "name": "stdout",
          "text": [
            "[Vacancy(source='hh.ru', name='QA Engineer Auto (Java)', link='https://hh.ru/vacancy/72076374?from=vacancy_search_list&query=%D1%82%D0%B5%D1%81%D1%82%D0%B5%D1%80', min_salary=None, max_salary=None),\n",
            " Vacancy(source='hh.ru', name='QA Automation engineer (зарплатный проект)', link='https://hh.ru/vacancy/73180600?from=vacancy_search_list&query=%D1%82%D0%B5%D1%81%D1%82%D0%B5%D1%80', min_salary=None, max_salary=Salary(amount=200000, currency='руб.')),\n",
            " Vacancy(source='hh.ru', name='Middle / Senior QA инженер', link='https://hh.ru/vacancy/47759634?from=vacancy_search_list&query=%D1%82%D0%B5%D1%81%D1%82%D0%B5%D1%80', min_salary=Salary(amount=200000, currency='руб.'), max_salary=None),\n",
            " Vacancy(source='hh.ru', name='Senior QA инженер', link='https://hh.ru/vacancy/49887152?from=vacancy_search_list&query=%D1%82%D0%B5%D1%81%D1%82%D0%B5%D1%80', min_salary=Salary(amount=400000, currency='руб.'), max_salary=None),\n",
            " Vacancy(source='hh.ru', name='Middle / Senior QA в команду hr-брендинговые продукты', link='https://hh.ru/vacancy/69811697?from=vacancy_search_list&query=%D1%82%D0%B5%D1%81%D1%82%D0%B5%D1%80', min_salary=Salary(amount=100000, currency='руб.'), max_salary=Salary(amount=200000, currency='руб.')),\n",
            " Vacancy(source='hh.ru', name='Middle / Senior QA в команду безопасности', link='https://hh.ru/vacancy/47892571?from=vacancy_search_list&query=%D1%82%D0%B5%D1%81%D1%82%D0%B5%D1%80', min_salary=None, max_salary=Salary(amount=500000, currency='руб.')),\n",
            " Vacancy(source='hh.ru', name='Middle / Senior QA инженер в команду mobi-dick', link='https://hh.ru/vacancy/71270946?from=vacancy_search_list&query=%D1%82%D0%B5%D1%81%D1%82%D0%B5%D1%80', min_salary=None, max_salary=None)]\n"
          ]
        }
      ]
    },
    {
      "cell_type": "code",
      "source": [
        "pprint(find_vacancies(min_salary=300000))"
      ],
      "metadata": {
        "colab": {
          "base_uri": "https://localhost:8080/"
        },
        "id": "dRjJN1GokLMK",
        "outputId": "ce7fd921-f8d1-4717-df2f-dd8a32bcd4c8"
      },
      "execution_count": 17,
      "outputs": [
        {
          "output_type": "stream",
          "name": "stdout",
          "text": [
            "[Vacancy(source='hh.ru', name='QA Engineer Auto (Java)', link='https://hh.ru/vacancy/72076374?from=vacancy_search_list&query=%D1%82%D0%B5%D1%81%D1%82%D0%B5%D1%80', min_salary=None, max_salary=None),\n",
            " Vacancy(source='hh.ru', name='QA Automation engineer (зарплатный проект)', link='https://hh.ru/vacancy/73180600?from=vacancy_search_list&query=%D1%82%D0%B5%D1%81%D1%82%D0%B5%D1%80', min_salary=None, max_salary=Salary(amount=200000, currency='руб.')),\n",
            " Vacancy(source='hh.ru', name='Senior QA инженер', link='https://hh.ru/vacancy/49887152?from=vacancy_search_list&query=%D1%82%D0%B5%D1%81%D1%82%D0%B5%D1%80', min_salary=Salary(amount=400000, currency='руб.'), max_salary=None),\n",
            " Vacancy(source='hh.ru', name='Middle / Senior QA в команду безопасности', link='https://hh.ru/vacancy/47892571?from=vacancy_search_list&query=%D1%82%D0%B5%D1%81%D1%82%D0%B5%D1%80', min_salary=None, max_salary=Salary(amount=500000, currency='руб.')),\n",
            " Vacancy(source='hh.ru', name='Middle / Senior QA инженер в команду mobi-dick', link='https://hh.ru/vacancy/71270946?from=vacancy_search_list&query=%D1%82%D0%B5%D1%81%D1%82%D0%B5%D1%80', min_salary=None, max_salary=None)]\n"
          ]
        }
      ]
    },
    {
      "cell_type": "code",
      "source": [
        "pprint(find_vacancies('QA', 300000))"
      ],
      "metadata": {
        "colab": {
          "base_uri": "https://localhost:8080/"
        },
        "id": "igf6ov67m28j",
        "outputId": "1f6508ba-675c-44a2-9207-ab2f8806ea4a"
      },
      "execution_count": 18,
      "outputs": [
        {
          "output_type": "stream",
          "name": "stdout",
          "text": [
            "[Vacancy(source='hh.ru', name='QA Engineer Auto (Java)', link='https://hh.ru/vacancy/72076374?from=vacancy_search_list&query=%D1%82%D0%B5%D1%81%D1%82%D0%B5%D1%80', min_salary=None, max_salary=None),\n",
            " Vacancy(source='hh.ru', name='QA Automation engineer (зарплатный проект)', link='https://hh.ru/vacancy/73180600?from=vacancy_search_list&query=%D1%82%D0%B5%D1%81%D1%82%D0%B5%D1%80', min_salary=None, max_salary=Salary(amount=200000, currency='руб.')),\n",
            " Vacancy(source='hh.ru', name='Senior QA инженер', link='https://hh.ru/vacancy/49887152?from=vacancy_search_list&query=%D1%82%D0%B5%D1%81%D1%82%D0%B5%D1%80', min_salary=Salary(amount=400000, currency='руб.'), max_salary=None),\n",
            " Vacancy(source='hh.ru', name='Middle / Senior QA в команду безопасности', link='https://hh.ru/vacancy/47892571?from=vacancy_search_list&query=%D1%82%D0%B5%D1%81%D1%82%D0%B5%D1%80', min_salary=None, max_salary=Salary(amount=500000, currency='руб.')),\n",
            " Vacancy(source='hh.ru', name='Middle / Senior QA инженер в команду mobi-dick', link='https://hh.ru/vacancy/71270946?from=vacancy_search_list&query=%D1%82%D0%B5%D1%81%D1%82%D0%B5%D1%80', min_salary=None, max_salary=None)]\n"
          ]
        }
      ]
    },
    {
      "cell_type": "code",
      "source": [
        "pprint(find_vacancies('QA', 300000, 500000))"
      ],
      "metadata": {
        "colab": {
          "base_uri": "https://localhost:8080/"
        },
        "id": "-UiRMUgTm8xb",
        "outputId": "36c9fc29-00ef-4c1c-b95f-56beba4337e9"
      },
      "execution_count": 19,
      "outputs": [
        {
          "output_type": "stream",
          "name": "stdout",
          "text": [
            "[Vacancy(source='hh.ru', name='QA Engineer Auto (Java)', link='https://hh.ru/vacancy/72076374?from=vacancy_search_list&query=%D1%82%D0%B5%D1%81%D1%82%D0%B5%D1%80', min_salary=None, max_salary=None),\n",
            " Vacancy(source='hh.ru', name='QA Automation engineer (зарплатный проект)', link='https://hh.ru/vacancy/73180600?from=vacancy_search_list&query=%D1%82%D0%B5%D1%81%D1%82%D0%B5%D1%80', min_salary=None, max_salary=Salary(amount=200000, currency='руб.')),\n",
            " Vacancy(source='hh.ru', name='Senior QA инженер', link='https://hh.ru/vacancy/49887152?from=vacancy_search_list&query=%D1%82%D0%B5%D1%81%D1%82%D0%B5%D1%80', min_salary=Salary(amount=400000, currency='руб.'), max_salary=None),\n",
            " Vacancy(source='hh.ru', name='Middle / Senior QA в команду безопасности', link='https://hh.ru/vacancy/47892571?from=vacancy_search_list&query=%D1%82%D0%B5%D1%81%D1%82%D0%B5%D1%80', min_salary=None, max_salary=Salary(amount=500000, currency='руб.')),\n",
            " Vacancy(source='hh.ru', name='Middle / Senior QA инженер в команду mobi-dick', link='https://hh.ru/vacancy/71270946?from=vacancy_search_list&query=%D1%82%D0%B5%D1%81%D1%82%D0%B5%D1%80', min_salary=None, max_salary=None)]\n"
          ]
        }
      ]
    }
  ]
}