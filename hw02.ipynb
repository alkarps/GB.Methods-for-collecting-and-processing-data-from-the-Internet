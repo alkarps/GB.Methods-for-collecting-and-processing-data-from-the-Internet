{
  "nbformat": 4,
  "nbformat_minor": 0,
  "metadata": {
    "colab": {
      "provenance": [],
      "authorship_tag": "ABX9TyN63FhRjrTYv6U+t540gw3c",
      "include_colab_link": true
    },
    "kernelspec": {
      "name": "python3",
      "display_name": "Python 3"
    },
    "language_info": {
      "name": "python"
    }
  },
  "cells": [
    {
      "cell_type": "markdown",
      "metadata": {
        "id": "view-in-github",
        "colab_type": "text"
      },
      "source": [
        "<a href=\"https://colab.research.google.com/github/alkarps/GB.Methods-for-collecting-and-processing-data-from-the-Internet/blob/hw02/hw02.ipynb\" target=\"_parent\"><img src=\"https://colab.research.google.com/assets/colab-badge.svg\" alt=\"Open In Colab\"/></a>"
      ]
    },
    {
      "cell_type": "code",
      "execution_count": 1,
      "metadata": {
        "id": "pIMVgxDMf0XA"
      },
      "outputs": [],
      "source": [
        "#!pip install requests\n",
        "#!pip install lxml"
      ]
    },
    {
      "cell_type": "code",
      "source": [
        "from pprint import pprint\n",
        "from lxml import html\n",
        "import requests"
      ],
      "metadata": {
        "id": "NcAlaDpkYtwl"
      },
      "execution_count": 2,
      "outputs": []
    },
    {
      "cell_type": "code",
      "source": [
        "class New:\n",
        "    def __init__(self, source, title, link, date):\n",
        "        self.source = source\n",
        "        self.title = title\n",
        "        self.link = link\n",
        "        self.date = date\n",
        "    def __str__(self):\n",
        "        return f\"source={self.source}; title={self.title}; link={self.link}; date={self.date}\""
      ],
      "metadata": {
        "id": "EnlKdi2YTmII"
      },
      "execution_count": 3,
      "outputs": []
    },
    {
      "cell_type": "markdown",
      "source": [
        "Написать приложение или функцию, которые собирают основные новости с сайтов на выбор lenta.ru, yandex-новости. Для парсинга использовать XPath."
      ],
      "metadata": {
        "id": "ClXuAiLjYuGk"
      }
    },
    {
      "cell_type": "markdown",
      "source": [
        "Структура данных должны содержать:\n",
        " - *название источника;\n",
        " - наименование новости;\n",
        " - ссылку на новость;\n",
        " - дата публикации.\n",
        "\n",
        "\n",
        " Минимум один сайт, максимум - все два."
      ],
      "metadata": {
        "id": "8zlEUpvzZ5LR"
      }
    },
    {
      "cell_type": "code",
      "source": [
        "lenta_url = \"https://lenta.ru\"\n",
        "lenta_uri_news = \"//a[contains(@class, '_topnews') or contains(@class, '_longgrid')  or contains(@class, 'card-feature') ]\""
      ],
      "metadata": {
        "id": "xH-xAECeZBOB"
      },
      "execution_count": 4,
      "outputs": []
    },
    {
      "cell_type": "code",
      "source": [
        "res = requests.get(lenta_url)"
      ],
      "metadata": {
        "id": "6JfUQf2rfTnR"
      },
      "execution_count": 28,
      "outputs": []
    },
    {
      "cell_type": "code",
      "source": [
        "dom = html.fromstring(res.text)"
      ],
      "metadata": {
        "id": "ypdd5U2uqw1_"
      },
      "execution_count": 39,
      "outputs": []
    },
    {
      "cell_type": "code",
      "source": [
        "news = dom.xpath(lenta_uri_news)"
      ],
      "metadata": {
        "id": "g2Pvt2yXQenR"
      },
      "execution_count": 40,
      "outputs": []
    },
    {
      "cell_type": "code",
      "source": [
        "def parseNewForLenta(new):\n",
        "  link =  new.attrib[\"href\"]\n",
        "  if link.startswith(\"/\"):\n",
        "    link = lenta_url + link\n",
        "  source = link.split(\"/\")[2]\n",
        "  date = \"\"\n",
        "  title = \"\"\n",
        "  if \"card-mini\" in new.classes:\n",
        "    card_mini = new.getiterator()\n",
        "    for ch in card_mini:\n",
        "      if \"card-mini__date\" in ch.classes:\n",
        "        date = ch.text\n",
        "      elif \"card-mini__title\" in ch.classes:\n",
        "        title = ch.text\n",
        "  elif \"card-feature\" in new.classes:\n",
        "    card_feature = new.getiterator()\n",
        "    sub_title = \"\"\n",
        "    for ch in card_feature:\n",
        "      if \"card-feature__date\" in ch.classes:\n",
        "        date = ch.text\n",
        "      elif \"card-feature__title\" in ch.classes:\n",
        "        main_title = ch.text\n",
        "      elif \"card-feature__rightcol\" in ch.classes:\n",
        "        sub_title = ch.text\n",
        "    divider = \":\"\n",
        "    if main_title.endswith((\".\",\"?\",\"!\")):\n",
        "      divider = \" \"\n",
        "    title = f\"{main_title}{divider}{sub_title}\"\n",
        "  else:\n",
        "    card_big = new.getiterator()\n",
        "    sub_title = \"\"\n",
        "    for ch in card_big:\n",
        "      if \"card-big__date\" in ch.classes:\n",
        "        date = ch.text\n",
        "      elif \"card-big__title\" in ch.classes:\n",
        "        main_title = ch.text\n",
        "      elif \"card-big__rightcol\" in ch.classes:\n",
        "        sub_title = ch.text\n",
        "    divider = \":\"\n",
        "    if main_title.endswith((\".\",\"?\",\"!\")):\n",
        "      divider = \" \"\n",
        "    title = f\"{main_title}{divider}{sub_title}\"\n",
        "  return New(source, title, link, date)"
      ],
      "metadata": {
        "id": "ROzIm9J50hvf"
      },
      "execution_count": 77,
      "outputs": []
    },
    {
      "cell_type": "code",
      "source": [
        "result = list()\n",
        "for new in news:\n",
        "  _new = parseNewForLenta(new)\n",
        "  print (_new)\n",
        "  result.append(_new)\n",
        "print(len(result))"
      ],
      "metadata": {
        "colab": {
          "base_uri": "https://localhost:8080/"
        },
        "id": "tQBqYzLkQ3Mo",
        "outputId": "c3143e73-fce0-49c7-ec03-8fcf8b98b683"
      },
      "execution_count": 78,
      "outputs": [
        {
          "output_type": "stream",
          "name": "stdout",
          "text": [
            "source=lenta.ru; title=Путин пообещал «пощелкать» американские «Патриоты» на Украине:; link=https://lenta.ru/news/2022/12/22/patttt/; date=19:17\n",
            "source=lenta.ru; title=Путин спрогнозировал уровень инфляции по итогам года; link=https://lenta.ru/news/2022/12/22/prognoss/; date=19:25\n",
            "source=lenta.ru; title=Врач назвал диету и спорт неэффективными способами борьбы с ожирением; link=https://lenta.ru/news/2022/12/22/obesity/; date=19:21\n",
            "source=lenta.ru; title=Перечислены лучшие гаджеты 2022 года; link=https://lenta.ru/news/2022/12/22/best_gadgets/; date=19:14\n",
            "source=lenta.ru; title=Путин рассказал о ежедневных встречах с российскими военными; link=https://lenta.ru/news/2022/12/22/putvoen/; date=19:12\n",
            "source=moslenta.ru; title=Известная актриса призналась в необычной для своей профессии фобии; link=https://moslenta.ru/news/lyudi/aktrisa-22-12-2022.htm; date=19:09\n",
            "source=lenta.ru; title=Путин назвал странным отказ Киева от переговоров с Москвой; link=https://lenta.ru/news/2022/12/22/otkaz/; date=19:10\n",
            "source=lenta.ru; title=Опытная стюардесса назвала национальность самых худших пассажиров самолетов; link=https://lenta.ru/news/2022/12/22/stewardess/; date=19:09\n",
            "source=lenta.ru; title=Путин назвал системы Patriot устаревшими в сравнении с С-300; link=https://lenta.ru/news/2022/12/22/patrioty/; date=19:07\n",
            "source=lenta.ru; title=Путин заявил о предпочтительности скорого завершения СВО; link=https://lenta.ru/news/2022/12/22/skorrr/; date=19:06\n",
            "source=lenta.ru; title=Путин рассказал о фиаско России после распада СССР; link=https://lenta.ru/news/2022/12/22/fiasco/; date=19:06\n",
            "source=lenta.ru; title=России предсказали падение экспорта нефти; link=https://lenta.ru/news/2022/12/22/oilbalticsea/; date=19:03\n",
            "source=lenta.ru; title=Рогозин сообщил о гибели своего помощника при обстреле в Донецке; link=https://lenta.ru/news/2022/12/22/pomoschnik/; date=18:26\n",
            "source=lenta.ru; title=Рогозина ранили в зоне СВО.  Осколок прошел в сантиметре от позвоночника экс-главы «Роскосмоса», он госпитализирован; link=https://lenta.ru/extlink/2022/12/22/rogozinranen/?intlnk=true; date=09:10\n",
            "source=lenta.ru; title=Зеленский встретился с Байденом.  Миллиарды долларов и комплексы Patriot: что еще надеется получить Украина от США?; link=https://lenta.ru/extlink/2022/12/22/zelebiden/?intlnk=true; date=09:18\n",
            "source=lenta.ru; title=Участниками проектов платформы «Россия — страна возможностей» стали миллионы; link=https://lenta.ru/news/2022/12/22/mlnr/; date=19:05\n",
            "source=lenta.ru; title=Путин ответил на вопрос о скупости своих высказываний о СВО; link=https://lenta.ru/news/2022/12/22/briefs/; date=19:04\n",
            "source=lenta.ru; title=Россиянка попыталась разнять подравшихся мужчин и получила огнестрельное ранение; link=https://lenta.ru/news/2022/12/22/noga/; date=19:00\n",
            "source=lenta.ru; title=Путин предостерег от пренебрежения волей народа; link=https://lenta.ru/news/2022/12/22/volya/; date=19:00\n",
            "source=lenta.ru; title=Путин рассказал о связи США с украинским сепаратизмом; link=https://lenta.ru/news/2022/12/22/putin_sep/; date=18:59\n",
            "source=lenta.ru; title=В квартире многодетной матери из российского города рухнул потолок; link=https://lenta.ru/news/2022/12/22/upal/; date=18:59\n",
            "source=lenta.ru; title=Швейцария 200 лет не вступала в войны.  Почему после начала боевых действий на Украине ей сложно сохранить нейтралитет?; link=https://lenta.ru/articles/2022/12/22/swi_neu/; date=00:01\n",
            "source=lenta.ru; title=Инфаркт, переломы, отравления, остановка сердца.  Все о том, как правильно оказать первую помощь до приезда врачей; link=https://lenta.ru/articles/2022/12/22/firstaid/; date=00:01\n",
            "source=lenta.ru; title=Путин порассуждал о Минских соглашениях; link=https://lenta.ru/news/2022/12/22/vodili/; date=18:59\n",
            "source=lenta.ru; title=Путин описал фразой «до слез пробивает» поддержку молодежью СВО на Украине; link=https://lenta.ru/news/2022/12/22/do_slez/; date=18:57\n",
            "source=lenta.ru; title=США ввели санкции против новых российских компаний; link=https://lenta.ru/news/2022/12/22/usasank/; date=18:52\n",
            "source=lenta.ru; title=Путин заявил об отсутствии настораживающих элементов в экономике России; link=https://lenta.ru/news/2022/12/22/netnastorozh/; date=18:51\n",
            "source=lenta.ru; title=Россиянам предложили заменить вещи ушедших брендов одеждой из секонд-хендов; link=https://lenta.ru/news/2022/12/22/secondhand/; date=18:51\n",
            "source=lenta.ru; title=Путин назвал спецоперацию вынужденной мерой; link=https://lenta.ru/news/2022/12/22/specop/; date=18:47\n",
            "source=lenta.ru; title=Шойгу предложил изменить призывной возраст.  На срочную службу хотят отправлять россиян с 21 до 30 лет; link=https://lenta.ru/extlink/2022/12/21/reformaarmii/?intlnk=true; date=16:45, 21 декабря 2022\n",
            "source=lenta.ru; title=Путин подвел итоги уходящего года; link=https://lenta.ru/news/2022/12/22/god/; date=18:47\n",
            "source=lenta.ru; title=Кровь из вас.  Выходит второй сезон полюбившихся россиянам «Вампиров средней полосы». Почему это провал?; link=https://lenta.ru/articles/2022/12/22/vampires/; date=00:01\n",
            "source=lenta.ru; title=Джеймс Кэмерон рассказал о происхождении культовой строчки в «Титанике»; link=https://lenta.ru/news/2022/12/22/leotheking/; date=18:46\n",
            "source=lenta.ru; title=Перевозка Зеленского в США осложнилась из-за российских подлодок; link=https://lenta.ru/news/2022/12/22/zelenskyescapesfromrussia/; date=18:43\n",
            "source=lenta.ru; title=Куратор научных разработок в ФСБ ушел в отставку; link=https://lenta.ru/news/2022/12/22/ots/; date=18:43\n",
            "source=lenta.ru; title=По древним следам.  Щеглец, Перынь, Хутынь и не только: гид по языческим святилищам России; link=https://lenta.ru/articles/2022/12/22/drevneslavyanskoe/; date=00:01\n",
            "source=lenta.ru; title=В Турции заявили об использовании Украины в качестве жертвы для борьбы с Россией; link=https://lenta.ru/news/2022/12/22/turkey/; date=18:41\n",
            "source=lenta.ru; title=Военкор показал видео с места подрыва авто главы поселка в Херсонской области; link=https://lenta.ru/news/2022/12/22/vidavto/; date=18:39\n",
            "source=lenta.ru; title=Праздники в 2023 году, когда закончатся длинные выходные и сколько будем отдыхать:: производственный календарь на 2023 год; link=https://lenta.ru/articles/2022/12/22/holidays/; date=00:01\n",
            "source=lenta.ru; title=Кобру стошнило другой коброй на глазах у змеелова; link=https://lenta.ru/news/2022/12/22/cobra/; date=18:38\n",
            "source=lenta.ru; title=Лавров проведет переговоры с главой МИД Азербайджана в Москве; link=https://lenta.ru/news/2022/12/22/lavrov/; date=18:38\n",
            "source=moslenta.ru; title=Вильфанд предупредил москвичей об аномальном изменении погоды; link=https://moslenta.ru/news/lyudi/anomalnoe-izmenenie-22-12-2022.htm/; date=18:37\n",
            "source=lenta.ru; title=«Роснефть» оценила экономический эффект от реализации программы энергосбережения; link=https://lenta.ru/news/2022/12/22/eceff/; date=18:37\n",
            "source=lenta.ru; title=Врач назвала самые вредные блюда на новогоднем столе; link=https://lenta.ru/news/2022/12/22/harmful_products/; date=18:35\n",
            "source=lenta.ru; title=«Людей держали в постоянном страхе»: Российские сектанты годами верили в скорый конец света. Как они готовились к нему?; link=https://lenta.ru/articles/2022/12/21/sekta/; date=00:01, 21 декабря 2022\n",
            "source=lenta.ru; title=В российской колонии обнаружили созданную «положенцем» ячейку АУЕ; link=https://lenta.ru/news/2022/12/22/primorje/; date=18:35\n",
            "source=lenta.ru; title=Названа предположительная дата начала продаж электрического «Москвича»; link=https://lenta.ru/news/2022/12/22/emoskvitch/; date=18:34\n",
            "source=lenta.ru; title=В ЦСКА ответили на информацию о гибели 17-летней футболистки клуба от отравления; link=https://lenta.ru/news/2022/12/22/cska_vinogradova/; date=18:28\n",
            "source=lenta.ru; title=«Даже в Сочи было дороже»: Райский курорт для богачей стал дешевле для россиян. Как отдохнуть на Сейшелах и не разориться?; link=https://lenta.ru/articles/2022/12/21/seychelles/; date=00:01, 21 декабря 2022\n",
            "source=lenta.ru; title=Россияне выбрали одно неожиданное зарубежное направление для отдыха на Новый год; link=https://lenta.ru/news/2022/12/22/caribs_russians/; date=18:25\n",
            "source=lenta.ru; title=Рогозин пообещал вернуться в зону СВО; link=https://lenta.ru/news/2022/12/22/zonasvo/; date=18:23\n",
            "source=lenta.ru; title=Путин рассказал об отмене праздничного обеда в Кремле; link=https://lenta.ru/news/2022/12/22/otmena/; date=18:23\n",
            "source=lenta.ru; title=Раненому Рогозину указали на его ошибки в зоне спецоперации; link=https://lenta.ru/news/2022/12/22/rogggg/; date=18:23\n",
            "source=lenta.ru; title=На Украине назвали сроки полного восстановления энергосистемы; link=https://lenta.ru/news/2022/12/22/galu/; date=18:23\n",
            "source=lenta.ru; title=Испанский Сенат рассмотрит закон о смене пола подростков в документах; link=https://lenta.ru/news/2022/12/22/trrransgenders/; date=18:22\n",
            "source=lenta.ru; title=«Я очень устала от спорта»: Известная олимпийская чемпионка о том, как начала новую жизнь и решила искать славу на YouTube; link=https://lenta.ru/articles/2022/12/21/alla_shishkina/; date=00:01, 21 декабря 2022\n",
            "source=lenta.ru; title=Популярная ведущая объяснила отсутствие песен Пугачевой на радио; link=https://lenta.ru/news/2022/12/22/pugacheva/; date=18:20\n",
            "source=lenta.ru; title=«Я король! Мне все можно»: Любовница короля Испании решила раскрыть все его тайны. Что заставило ее пойти на это?; link=https://lenta.ru/articles/2022/12/20/corinna/; date=00:01, 20 декабря 2022\n",
            "source=lenta.ru; title=Россиян предупредили о всплеске мошенничества перед Новым годом; link=https://lenta.ru/news/2022/12/22/fishing/; date=18:16\n",
            "source=lenta.ru; title=Раскрыта дата анонса нового флагмана Samsung; link=https://lenta.ru/news/2022/12/22/galaxys23/; date=18:14\n",
            "source=lenta.ru; title=Блогер показал виниры и описал процедуру по их установке фразой «два часа боли»; link=https://lenta.ru/news/2022/12/22/veneers/; date=18:11\n",
            "source=lenta.ru; title=Жилье на популярном у россиян зарубежном курорте перестало быть дешевым; link=https://lenta.ru/news/2022/12/22/notcheap_anymore/; date=18:08\n",
            "source=lenta.ru; title=Отец Киркорова назвал Горбачева предателем и пожелал России победы в СВО; link=https://lenta.ru/news/2022/12/22/kirkorov/; date=18:08\n",
            "source=moslenta.ru; title=Российская олимпийская чемпионка показала фигуру в купальнике; link=https://moslenta.ru/news/lyudi/olimpiiskaya-chempionka-22-12-2022.htm/; date=18:07\n",
            "source=lenta.ru; title=В Совфеде заявили о работе над докладом по спецоперации на Украине; link=https://lenta.ru/news/2022/12/22/doklad/; date=18:05\n",
            "source=lenta.ru; title=Книга мертвого.  Режиссер «Выжившего» снял трехчасовой фильм о родине и своем кризисе среднего возраста. Что с ним не так?; link=https://lenta.ru/articles/2022/12/20/bardo/; date=00:01, 20 декабря 2022\n",
            "source=lenta.ru; title=Туристам раскрыли «золотые правила» для комфортного путешествия в самолете; link=https://lenta.ru/news/2022/12/22/golden_rules/; date=18:03\n",
            "source=lenta.ru; title=Полицейские обнаружили тайник ВСУ в заброшенном доме под Херсоном; link=https://lenta.ru/news/2022/12/22/hersoon/; date=17:57\n",
            "source=lenta.ru; title=Россиян научили оказывать первую помощь при смертельно опасном приступе; link=https://lenta.ru/news/2022/12/22/heart_attack/; date=17:54\n",
            "source=lenta.ru; title=Самое страшное оружие на Земле:: чем опасно ядерное, химическое и бактериологическое оружие?; link=https://lenta.ru/articles/2022/12/20/omp/; date=00:01, 20 декабря 2022\n",
            "source=lenta.ru; title=В будущем электромобилей усомнились; link=https://lenta.ru/news/2022/12/22/kpmgelectrocar/; date=17:53\n",
            "source=lenta.ru; title=Курс рубля резко вырос; link=https://lenta.ru/news/2022/12/22/yvernulsya/; date=17:52\n",
            "source=lenta.ru; title=«Не могу сдержать слез, глядя на муки сына»: От постоянной боли Егора спасет срочная операция. Нужна ваша помощь ; link=https://lenta.ru/articles/2022/12/20/rusfond159/; date=00:02, 20 декабря 2022\n",
            "source=lenta.ru; title=Подготовленные в Чехии украинские военные начали возвращаться домой; link=https://lenta.ru/news/2022/12/22/cominghome/; date=17:52\n",
            "source=lenta.ru; title=Зеленский встретился с президентом Польши; link=https://lenta.ru/news/2022/12/22/zelduda/; date=17:50\n",
            "source=lenta.ru; title=В Польше заявили о «сытости по горло» бюрократией Евросоюза; link=https://lenta.ru/news/2022/12/22/moravezkioneubureaucracy/; date=17:49\n",
            "source=lenta.ru; title=Стали известны условия работы Моуринью со сборной Португалии; link=https://lenta.ru/news/2022/12/22/maur/; date=17:47\n",
            "source=lenta.ru; title=Родители с дочерью отправились в небольшое путешествие и умерли в один день; link=https://lenta.ru/news/2022/12/22/aussi_fam_death/; date=17:46\n",
            "source=lenta.ru; title=Месси на вершине.  Аргентина выиграла чемпионат мира. Почему это был невероятный матч и лучший финал в истории?; link=https://lenta.ru/articles/2022/12/19/wc_final/; date=01:28, 19 декабря 2022\n",
            "source=lenta.ru; title=Владимир Путин пообщался с участниками проектов «России — страны возможностей»; link=https://lenta.ru/news/2022/12/22/visit1/; date=17:45\n",
            "source=lenta.ru; title=В ЕС предложили распустить Европарламент из-за коррупционного скандала; link=https://lenta.ru/news/2022/12/22/orban_ep/; date=17:45\n",
            "source=lenta.ru; title=В США оценили визит Зеленского фразой «они делали все, что он хотел»; link=https://lenta.ru/news/2022/12/22/smi_zelenski/; date=17:44\n",
            "source=lenta.ru; title=«Я увидел уставшего старика»: Почему за три месяца до смерти Сталин вдруг отказался от врачей и отвернулся от соратников; link=https://lenta.ru/articles/2022/12/18/stalin70/; date=00:01, 18 декабря 2022\n",
            "source=lenta.ru; title=В Эстонии предложили выделить 60 тысяч евро на демонтаж советских памятников; link=https://lenta.ru/news/2022/12/22/60evro/; date=17:41\n",
            "source=lenta.ru; title=«Евросоюзу будет тяжело»: Германия призывает расширить и реформировать ЕС. К чему это приведет?; link=https://lenta.ru/articles/2022/12/19/eu/; date=00:01, 19 декабря 2022\n",
            "source=lenta.ru; title=Россиянин сломал падчерице челюсть из-за испорченного просмотра финала ЧМ; link=https://lenta.ru/news/2022/12/22/chelust/; date=17:40\n",
            "source=lenta.ru; title=В США рекордно сократилась средняя продолжительность жизни за последние 25 лет; link=https://lenta.ru/news/2022/12/22/prod_prod/; date=17:39\n",
            "source=lenta.ru; title=Полная девушка раскрыла простой способ выглядеть стройнее в повседневной одежде; link=https://lenta.ru/news/2022/12/22/overweight/; date=17:36\n",
            "source=moslenta.ru; title=Врач перечислила методы борьбы с зимними обострениями кожных болезней; link=https://moslenta.ru/news/lyudi/zimnie-obostreniya-kozhnykh-boleznei-22-12-2022.htm/; date=17:34\n",
            "source=lenta.ru; title=Россиянин попытался зарезать девушку во дворе дома и попал в СИЗО; link=https://lenta.ru/news/2022/12/22/dvorvoljsk/; date=17:33\n",
            "source=lenta.ru; title=Ума Турман пережила насилие и стала одной из лучших актрис Голливуда:: ей не помешали 42 размер ноги и необычная внешность; link=https://lenta.ru/articles/2022/12/19/uma_thurman/; date=00:01, 19 декабря 2022\n",
            "source=lenta.ru; title=Женщина не отпустила мужа на похороны бывшей жены и прослыла бессердечной; link=https://lenta.ru/news/2022/12/22/ex_wife_funeral/; date=17:33\n",
            "source=lenta.ru; title=На крови.  История фанатки Стива Джобса, которая обманула миллионеров и провернула крупнейшую аферу современности; link=https://lenta.ru/articles/2022/12/19/theranos/; date=00:01, 19 декабря 2022\n",
            "source=lenta.ru; title=На популярном курорте водитель насмерть сбил туристку на глазах ее парня; link=https://lenta.ru/news/2022/12/22/drama/; date=17:31\n",
            "source=lenta.ru; title=Путин потребовал выстроить систему поддержки молодежи по всей России; link=https://lenta.ru/news/2022/12/22/puttreb/; date=17:26\n",
            "source=lenta.ru; title=Чернышенко поручил Минцифры предложить ротацию глав цифровой трансформации; link=https://lenta.ru/news/2022/12/22/cifra/; date=17:23\n",
            "source=lenta.ru; title=Власти приграничных регионов объяснили проблемы с оповещениями об обстрелах; link=https://lenta.ru/news/2022/12/22/opovesch/; date=17:21\n",
            "source=lenta.ru; title=«Большая семерка» назвала размер финансовой помощи для Украины; link=https://lenta.ru/news/2022/12/22/g7/; date=17:20\n",
            "source=lenta.ru; title=В России предложили разрешить подросткам торговать на бирже; link=https://lenta.ru/news/2022/12/22/bolshepulsyat/; date=17:19\n",
            "source=lenta.ru; title=«Жертв за людей не считали»: Как пожарный из Донбасса создал в 1980-е самую жестокую банду в истории советской Украины; link=https://lenta.ru/articles/2022/12/18/banda/; date=00:01, 18 декабря 2022\n",
            "source=lenta.ru; title=Зеленский и Ермак встретились с Пелоси, республиканцами и демократами; link=https://lenta.ru/news/2022/12/22/zel_pelosi/; date=17:19\n",
            "source=lenta.ru; title=Брэду Питту — 59.  Как грубиян без актерского образования стал главным секс-символом Голливуда, несмотря на алкоголизм?; link=https://lenta.ru/articles/2022/12/18/pitt/; date=00:01, 18 декабря 2022\n",
            "source=lenta.ru; title=Германия завершила национализацию энергогиганта Uniper; link=https://lenta.ru/news/2022/12/22/uniper_na/; date=17:19\n",
            "source=lenta.ru; title=Путин сообщил о шквале информационных атак на молодежь; link=https://lenta.ru/news/2022/12/22/attacks/; date=17:17\n",
            "104\n"
          ]
        }
      ]
    }
  ]
}