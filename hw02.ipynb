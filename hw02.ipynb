{
  "nbformat": 4,
  "nbformat_minor": 0,
  "metadata": {
    "colab": {
      "provenance": [],
      "authorship_tag": "ABX9TyNJpQr1Z3iAPVFSazwnGW0P",
      "include_colab_link": true
    },
    "kernelspec": {
      "name": "python3",
      "display_name": "Python 3"
    },
    "language_info": {
      "name": "python"
    }
  },
  "cells": [
    {
      "cell_type": "markdown",
      "metadata": {
        "id": "view-in-github",
        "colab_type": "text"
      },
      "source": [
        "<a href=\"https://colab.research.google.com/github/alkarps/GB.Methods-for-collecting-and-processing-data-from-the-Internet/blob/hw02/hw02.ipynb\" target=\"_parent\"><img src=\"https://colab.research.google.com/assets/colab-badge.svg\" alt=\"Open In Colab\"/></a>"
      ]
    },
    {
      "cell_type": "code",
      "execution_count": 1,
      "metadata": {
        "id": "pIMVgxDMf0XA"
      },
      "outputs": [],
      "source": [
        "#!pip install requests\n",
        "#!pip install lxml"
      ]
    },
    {
      "cell_type": "code",
      "source": [
        "from pprint import pprint\n",
        "from lxml import html\n",
        "import requests"
      ],
      "metadata": {
        "id": "NcAlaDpkYtwl"
      },
      "execution_count": 2,
      "outputs": []
    },
    {
      "cell_type": "code",
      "source": [
        "class New:\n",
        "    def __init__(self, source, title, link, date):\n",
        "        self.source = source\n",
        "        self.title = title\n",
        "        self.link = link\n",
        "        self.date = date\n",
        "    def __str__(self):\n",
        "        return f\"source={self.source}; title={self.title}; link={self.link}; date={self.date}\""
      ],
      "metadata": {
        "id": "EnlKdi2YTmII"
      },
      "execution_count": 3,
      "outputs": []
    },
    {
      "cell_type": "markdown",
      "source": [
        "Написать приложение или функцию, которые собирают основные новости с сайтов на выбор lenta.ru, yandex-новости. Для парсинга использовать XPath."
      ],
      "metadata": {
        "id": "ClXuAiLjYuGk"
      }
    },
    {
      "cell_type": "markdown",
      "source": [
        "Структура данных должны содержать:\n",
        " - *название источника;\n",
        " - наименование новости;\n",
        " - ссылку на новость;\n",
        " - дата публикации.\n",
        "\n",
        "\n",
        " Минимум один сайт, максимум - все два."
      ],
      "metadata": {
        "id": "8zlEUpvzZ5LR"
      }
    },
    {
      "cell_type": "code",
      "source": [
        "lenta_url = \"https://lenta.ru\"\n",
        "lenta_uri_news = \"//a[contains(@class, '_topnews') or contains(@class, '_longgrid')  or contains(@class, 'card-feature') ]\"\n",
        "lenta_root_classes = (\"card-mini\", \"card-feature\", \"card-big\")"
      ],
      "metadata": {
        "id": "xH-xAECeZBOB"
      },
      "execution_count": 4,
      "outputs": []
    },
    {
      "cell_type": "code",
      "source": [
        "res = requests.get(lenta_url)"
      ],
      "metadata": {
        "id": "6JfUQf2rfTnR"
      },
      "execution_count": 5,
      "outputs": []
    },
    {
      "cell_type": "code",
      "source": [
        "dom = html.fromstring(res.text)"
      ],
      "metadata": {
        "id": "ypdd5U2uqw1_"
      },
      "execution_count": 6,
      "outputs": []
    },
    {
      "cell_type": "code",
      "source": [
        "news = dom.xpath(lenta_uri_news)"
      ],
      "metadata": {
        "id": "g2Pvt2yXQenR"
      },
      "execution_count": 7,
      "outputs": []
    },
    {
      "cell_type": "code",
      "source": [
        "def parseNewForLenta(new):\n",
        "  link =  new.attrib[\"href\"]\n",
        "  if link.startswith(\"/\"):\n",
        "    link = lenta_url + link\n",
        "  source = link.split(\"/\")[2]\n",
        "  date = \"\"\n",
        "  title = \"\"\n",
        "  current_root_class = None\n",
        "  for root_class in lenta_root_classes:\n",
        "    if root_class in new.classes:\n",
        "      current_root_class = root_class\n",
        "      break\n",
        "  sub_title = \"\"\n",
        "  for ch in new.getiterator():\n",
        "    if f\"{current_root_class}__date\" in ch.classes:\n",
        "      date = ch.text\n",
        "    elif f\"{current_root_class}__title\" in ch.classes:\n",
        "      main_title = ch.text\n",
        "    elif f\"{current_root_class}__rightcol\" in ch.classes:\n",
        "      sub_title = ch.text\n",
        "  divider = \":\"\n",
        "  if main_title.endswith((\".\",\"?\",\"!\")):\n",
        "    divider = \" \"\n",
        "  if sub_title == \"\":\n",
        "    divider = \"\"\n",
        "  title = f\"{main_title}{divider}{sub_title}\"\n",
        "  return New(source, title, link, date)"
      ],
      "metadata": {
        "id": "ROzIm9J50hvf"
      },
      "execution_count": 8,
      "outputs": []
    },
    {
      "cell_type": "code",
      "source": [
        "result = list()\n",
        "for new in news:\n",
        "  _new = parseNewForLenta(new)\n",
        "  result.append(_new)"
      ],
      "metadata": {
        "id": "tQBqYzLkQ3Mo"
      },
      "execution_count": 9,
      "outputs": []
    }
  ]
}